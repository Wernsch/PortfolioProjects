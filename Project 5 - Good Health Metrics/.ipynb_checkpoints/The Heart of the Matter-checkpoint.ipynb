{
 "cells": [
  {
   "cell_type": "markdown",
   "id": "bb978d98",
   "metadata": {},
   "source": [
    "# The Heart of the Matter: A data-driven approach to understanding heart disease risk factors"
   ]
  },
  {
   "cell_type": "markdown",
   "id": "28fcdc6a",
   "metadata": {},
   "source": [
    "## The beat goes on...until it doesn't: Predicting heart disease with machine learning"
   ]
  },
  {
   "cell_type": "markdown",
   "id": "eb89b6db",
   "metadata": {},
   "source": [
    "### Step 1: Importing and understanding the dataset"
   ]
  },
  {
   "cell_type": "markdown",
   "id": "67b3f158",
   "metadata": {},
   "source": [
    "Alright, let's begin our thrilling journey into the world of data science by importing our dataset. Buckle up, because the thrill factor is about to reach new heights! We're delving into a dataset (Link to dataset: https://www.kaggle.com/datasets/kamilpytlak/personal-key-indicators-of-heart-disease) that is quite literally a matter of the heart: the 2020 Heart Disease dataset. Our mission, should we choose to accept it (spoiler alert: we have), is to analyze this dataset with the precision of a heart surgeon, the insight of a cardiologist, and the statistical acumen of, well, a data scientist.\n",
    "\n",
    "But before we put our scalpel to the data, let's import the necessary libraries and the dataset itself. It's time to put our lab coats on and step into the data science operating room. Don't worry, I've scrubbed up! Let's get started."
   ]
  },
  {
   "cell_type": "code",
   "execution_count": 1,
   "id": "84500c55",
   "metadata": {},
   "outputs": [],
   "source": [
    "# Importing relevant packages\n",
    "\n",
    "import pandas as pd\n",
    "import numpy as np\n",
    "import seaborn as sns\n",
    "import matplotlib.pyplot as plt\n",
    "from sklearn.model_selection import train_test_split\n",
    "from sklearn.preprocessing import StandardScaler\n",
    "from sklearn.linear_model import LogisticRegression\n",
    "from sklearn.metrics import confusion_matrix, accuracy_score, classification_report"
   ]
  },
  {
   "cell_type": "code",
   "execution_count": 2,
   "id": "fd203e35",
   "metadata": {},
   "outputs": [],
   "source": [
    "# Loading the data\n",
    "\n",
    "data = pd.read_csv(r'data/heart_2020_cleaned.csv')"
   ]
  },
  {
   "cell_type": "code",
   "execution_count": 3,
   "id": "56a3b8ba",
   "metadata": {},
   "outputs": [
    {
     "data": {
      "text/html": [
       "<div>\n",
       "<style scoped>\n",
       "    .dataframe tbody tr th:only-of-type {\n",
       "        vertical-align: middle;\n",
       "    }\n",
       "\n",
       "    .dataframe tbody tr th {\n",
       "        vertical-align: top;\n",
       "    }\n",
       "\n",
       "    .dataframe thead th {\n",
       "        text-align: right;\n",
       "    }\n",
       "</style>\n",
       "<table border=\"1\" class=\"dataframe\">\n",
       "  <thead>\n",
       "    <tr style=\"text-align: right;\">\n",
       "      <th></th>\n",
       "      <th>HeartDisease</th>\n",
       "      <th>BMI</th>\n",
       "      <th>Smoking</th>\n",
       "      <th>AlcoholDrinking</th>\n",
       "      <th>Stroke</th>\n",
       "      <th>PhysicalHealth</th>\n",
       "      <th>MentalHealth</th>\n",
       "      <th>DiffWalking</th>\n",
       "      <th>Sex</th>\n",
       "      <th>AgeCategory</th>\n",
       "      <th>Race</th>\n",
       "      <th>Diabetic</th>\n",
       "      <th>PhysicalActivity</th>\n",
       "      <th>GenHealth</th>\n",
       "      <th>SleepTime</th>\n",
       "      <th>Asthma</th>\n",
       "      <th>KidneyDisease</th>\n",
       "      <th>SkinCancer</th>\n",
       "    </tr>\n",
       "  </thead>\n",
       "  <tbody>\n",
       "    <tr>\n",
       "      <th>0</th>\n",
       "      <td>No</td>\n",
       "      <td>16.60</td>\n",
       "      <td>Yes</td>\n",
       "      <td>No</td>\n",
       "      <td>No</td>\n",
       "      <td>3.0</td>\n",
       "      <td>30.0</td>\n",
       "      <td>No</td>\n",
       "      <td>Female</td>\n",
       "      <td>55-59</td>\n",
       "      <td>White</td>\n",
       "      <td>Yes</td>\n",
       "      <td>Yes</td>\n",
       "      <td>Very good</td>\n",
       "      <td>5.0</td>\n",
       "      <td>Yes</td>\n",
       "      <td>No</td>\n",
       "      <td>Yes</td>\n",
       "    </tr>\n",
       "    <tr>\n",
       "      <th>1</th>\n",
       "      <td>No</td>\n",
       "      <td>20.34</td>\n",
       "      <td>No</td>\n",
       "      <td>No</td>\n",
       "      <td>Yes</td>\n",
       "      <td>0.0</td>\n",
       "      <td>0.0</td>\n",
       "      <td>No</td>\n",
       "      <td>Female</td>\n",
       "      <td>80 or older</td>\n",
       "      <td>White</td>\n",
       "      <td>No</td>\n",
       "      <td>Yes</td>\n",
       "      <td>Very good</td>\n",
       "      <td>7.0</td>\n",
       "      <td>No</td>\n",
       "      <td>No</td>\n",
       "      <td>No</td>\n",
       "    </tr>\n",
       "    <tr>\n",
       "      <th>2</th>\n",
       "      <td>No</td>\n",
       "      <td>26.58</td>\n",
       "      <td>Yes</td>\n",
       "      <td>No</td>\n",
       "      <td>No</td>\n",
       "      <td>20.0</td>\n",
       "      <td>30.0</td>\n",
       "      <td>No</td>\n",
       "      <td>Male</td>\n",
       "      <td>65-69</td>\n",
       "      <td>White</td>\n",
       "      <td>Yes</td>\n",
       "      <td>Yes</td>\n",
       "      <td>Fair</td>\n",
       "      <td>8.0</td>\n",
       "      <td>Yes</td>\n",
       "      <td>No</td>\n",
       "      <td>No</td>\n",
       "    </tr>\n",
       "    <tr>\n",
       "      <th>3</th>\n",
       "      <td>No</td>\n",
       "      <td>24.21</td>\n",
       "      <td>No</td>\n",
       "      <td>No</td>\n",
       "      <td>No</td>\n",
       "      <td>0.0</td>\n",
       "      <td>0.0</td>\n",
       "      <td>No</td>\n",
       "      <td>Female</td>\n",
       "      <td>75-79</td>\n",
       "      <td>White</td>\n",
       "      <td>No</td>\n",
       "      <td>No</td>\n",
       "      <td>Good</td>\n",
       "      <td>6.0</td>\n",
       "      <td>No</td>\n",
       "      <td>No</td>\n",
       "      <td>Yes</td>\n",
       "    </tr>\n",
       "    <tr>\n",
       "      <th>4</th>\n",
       "      <td>No</td>\n",
       "      <td>23.71</td>\n",
       "      <td>No</td>\n",
       "      <td>No</td>\n",
       "      <td>No</td>\n",
       "      <td>28.0</td>\n",
       "      <td>0.0</td>\n",
       "      <td>Yes</td>\n",
       "      <td>Female</td>\n",
       "      <td>40-44</td>\n",
       "      <td>White</td>\n",
       "      <td>No</td>\n",
       "      <td>Yes</td>\n",
       "      <td>Very good</td>\n",
       "      <td>8.0</td>\n",
       "      <td>No</td>\n",
       "      <td>No</td>\n",
       "      <td>No</td>\n",
       "    </tr>\n",
       "  </tbody>\n",
       "</table>\n",
       "</div>"
      ],
      "text/plain": [
       "  HeartDisease    BMI Smoking AlcoholDrinking Stroke  PhysicalHealth  \\\n",
       "0           No  16.60     Yes              No     No             3.0   \n",
       "1           No  20.34      No              No    Yes             0.0   \n",
       "2           No  26.58     Yes              No     No            20.0   \n",
       "3           No  24.21      No              No     No             0.0   \n",
       "4           No  23.71      No              No     No            28.0   \n",
       "\n",
       "   MentalHealth DiffWalking     Sex  AgeCategory   Race Diabetic  \\\n",
       "0          30.0          No  Female        55-59  White      Yes   \n",
       "1           0.0          No  Female  80 or older  White       No   \n",
       "2          30.0          No    Male        65-69  White      Yes   \n",
       "3           0.0          No  Female        75-79  White       No   \n",
       "4           0.0         Yes  Female        40-44  White       No   \n",
       "\n",
       "  PhysicalActivity  GenHealth  SleepTime Asthma KidneyDisease SkinCancer  \n",
       "0              Yes  Very good        5.0    Yes            No        Yes  \n",
       "1              Yes  Very good        7.0     No            No         No  \n",
       "2              Yes       Fair        8.0    Yes            No         No  \n",
       "3               No       Good        6.0     No            No        Yes  \n",
       "4              Yes  Very good        8.0     No            No         No  "
      ]
     },
     "execution_count": 3,
     "metadata": {},
     "output_type": "execute_result"
    }
   ],
   "source": [
    "# Taking a look at the first few rows\n",
    "\n",
    "data.head()"
   ]
  },
  {
   "cell_type": "markdown",
   "id": "40eaea5e",
   "metadata": {},
   "source": [
    "### Step 2: Project description and background"
   ]
  },
  {
   "cell_type": "markdown",
   "id": "2f28f487",
   "metadata": {},
   "source": [
    "Why are we doing this analysis? Well, it's quite simple: heart disease is the leading cause of death globally. It's like the Darth Vader of diseases - often unseen, ruthlessly efficient, and with a tragic backstory involving genetic factors and lifestyle choices.\n",
    "\n",
    "Understanding the risk factors associated with heart disease is a crucial step towards prevention. The more we know, the more we can do to prevent the 'Dark Side' of cardiovascular diseases from taking over.\n",
    "\n",
    "By analyzing this dataset, we aim to uncover patterns and relationships between various potential risk factors and the prevalence of heart disease. By leveraging the power of machine learning, we hope to predict the risk of heart disease based on these factors, ultimately contributing to a healthier, happier galaxy (ok, let's start with our planet first)."
   ]
  },
  {
   "cell_type": "markdown",
   "id": "6c7148c9",
   "metadata": {},
   "source": [
    "#### Hypotheses to test"
   ]
  },
  {
   "cell_type": "markdown",
   "id": "6f4bd815",
   "metadata": {},
   "source": [
    "The Force (aka our experience and intuition) suggests that certain factors such as smoking, alcohol drinking, diabetes, and lack of physical activity could be associated with heart disease. But, as the great Yoda once said, \"Always pass on what you have learned.\" Therefore, we'll confirm or refute these hypotheses using our data:\n",
    "\n",
    "- Hypothesis 1: Individuals who smoke are more likely to have heart disease.\n",
    "- Hypothesis 2: A high BMI (Body Mass Index) is associated with a higher risk of heart disease.\n",
    "- Hypothesis 3: Lack of physical activity is a significant risk factor for heart disease.\n",
    "- Hypothesis 4: Diabetic individuals have a higher risk of heart disease.\n",
    "\n",
    "So, let's put these hypotheses to the test. It's time for some exploratory data analysis and data cleaning! Here's where we roll up our sleeves, don our data goggles, and dive headfirst into the data. Are you with me? Of course you are! Let's go."
   ]
  },
  {
   "cell_type": "markdown",
   "id": "31eebcf6",
   "metadata": {},
   "source": [
    "### Step 3: Exploratory data analysis (EDA) and data cleaning"
   ]
  },
  {
   "cell_type": "markdown",
   "id": "b130f5c6",
   "metadata": {},
   "source": [
    "This is like the \"clean before you cook\" rule in the kitchen. We need to make sure our data is clean and ready for analysis. Let's start by checking the shape of our dataset and if there are any missing values that we need to take care of.\n",
    "\n",
    "Hold on to your hat, because EDA is where the real action begins!"
   ]
  },
  {
   "cell_type": "code",
   "execution_count": 4,
   "id": "a30f2a7d",
   "metadata": {},
   "outputs": [
    {
     "name": "stdout",
     "output_type": "stream",
     "text": [
      "The dataset has 319795 rows and 18 columns.\n",
      "\n",
      "The dataset contains the following missing values:\n",
      "HeartDisease        0\n",
      "BMI                 0\n",
      "Smoking             0\n",
      "AlcoholDrinking     0\n",
      "Stroke              0\n",
      "PhysicalHealth      0\n",
      "MentalHealth        0\n",
      "DiffWalking         0\n",
      "Sex                 0\n",
      "AgeCategory         0\n",
      "Race                0\n",
      "Diabetic            0\n",
      "PhysicalActivity    0\n",
      "GenHealth           0\n",
      "SleepTime           0\n",
      "Asthma              0\n",
      "KidneyDisease       0\n",
      "SkinCancer          0\n",
      "dtype: int64\n"
     ]
    }
   ],
   "source": [
    "# Checking the shape of the dataset\n",
    "print(f\"The dataset has {data.shape[0]} rows and {data.shape[1]} columns.\\n\")\n",
    "\n",
    "# Checking for missing values\n",
    "missing_values = data.isnull().sum()\n",
    "print(f\"The dataset contains the following missing values:\\n{missing_values}\")"
   ]
  },
  {
   "cell_type": "markdown",
   "id": "feca74bf",
   "metadata": {},
   "source": [
    "Well, well, well! Look at what we've got here: a dataset as clean as a whistle. Not a single missing value to be found! This makes our job a tad easier (and less messy). Now, let's dive deeper and understand the nature of our variables.\n",
    "\n",
    "Just like you wouldn't judge a book by its cover, you shouldn't judge a dataset by its first few rows. So, let's go ahead and uncover the hidden secrets of our dataset's variables. We'll examine their types and unique values to get a better sense of what we're working with. Let's go ahead, shall we?"
   ]
  },
  {
   "cell_type": "code",
   "execution_count": 5,
   "id": "1888ebb9",
   "metadata": {},
   "outputs": [
    {
     "name": "stdout",
     "output_type": "stream",
     "text": [
      "Data types of the variables:\n",
      "HeartDisease         object\n",
      "BMI                 float64\n",
      "Smoking              object\n",
      "AlcoholDrinking      object\n",
      "Stroke               object\n",
      "PhysicalHealth      float64\n",
      "MentalHealth        float64\n",
      "DiffWalking          object\n",
      "Sex                  object\n",
      "AgeCategory          object\n",
      "Race                 object\n",
      "Diabetic             object\n",
      "PhysicalActivity     object\n",
      "GenHealth            object\n",
      "SleepTime           float64\n",
      "Asthma               object\n",
      "KidneyDisease        object\n",
      "SkinCancer           object\n",
      "dtype: object\n",
      "\n",
      "Unique values in each column:\n",
      "HeartDisease: ['No' 'Yes']\n",
      "BMI: [16.6  20.34 26.58 ... 62.42 51.46 46.56]\n",
      "Smoking: ['Yes' 'No']\n",
      "AlcoholDrinking: ['No' 'Yes']\n",
      "Stroke: ['No' 'Yes']\n",
      "PhysicalHealth: [ 3.  0. 20. 28.  6. 15.  5. 30.  7.  1.  2. 21.  4. 10. 14. 18.  8. 25.\n",
      " 16. 29. 27. 17. 24. 12. 23. 26. 22. 19.  9. 13. 11.]\n",
      "MentalHealth: [30.  0.  2.  5. 15.  8.  4.  3. 10. 14. 20.  1.  7. 24.  9. 28. 16. 12.\n",
      "  6. 25. 17. 18. 21. 29. 22. 13. 23. 27. 26. 11. 19.]\n",
      "DiffWalking: ['No' 'Yes']\n",
      "Sex: ['Female' 'Male']\n",
      "AgeCategory: ['55-59' '80 or older' '65-69' '75-79' '40-44' '70-74' '60-64' '50-54'\n",
      " '45-49' '18-24' '35-39' '30-34' '25-29']\n",
      "Race: ['White' 'Black' 'Asian' 'American Indian/Alaskan Native' 'Other'\n",
      " 'Hispanic']\n",
      "Diabetic: ['Yes' 'No' 'No, borderline diabetes' 'Yes (during pregnancy)']\n",
      "PhysicalActivity: ['Yes' 'No']\n",
      "GenHealth: ['Very good' 'Fair' 'Good' 'Poor' 'Excellent']\n",
      "SleepTime: [ 5.  7.  8.  6. 12.  4.  9. 10. 15.  3.  2.  1. 16. 18. 14. 20. 11. 13.\n",
      " 17. 24. 19. 21. 22. 23.]\n",
      "Asthma: ['Yes' 'No']\n",
      "KidneyDisease: ['No' 'Yes']\n",
      "SkinCancer: ['Yes' 'No']\n"
     ]
    }
   ],
   "source": [
    "# Checking the data types\n",
    "print(\"Data types of the variables:\")\n",
    "print(data.dtypes)\n",
    "\n",
    "# Checking the unique values in each column\n",
    "print(\"\\nUnique values in each column:\")\n",
    "for col in data.columns:\n",
    "    print(f\"{col}: {data[col].unique()}\")"
   ]
  },
  {
   "cell_type": "markdown",
   "id": "17f910c5",
   "metadata": {},
   "source": [
    "Our dataset is a delightful mix of numerical and categorical variables. We have a total of 18 variables, and our target variable 'HeartDisease' is binary (either 'Yes' or 'No').\n",
    "\n",
    "Our numerical variables include 'BMI', 'PhysicalHealth', 'MentalHealth', and 'SleepTime'. These variables exhibit a wide range of values, indicating a variety of health conditions among the respondents.\n",
    "\n",
    "Our categorical variables are a colorful palette, ranging from binary variables (like 'Smoking' and 'AlcoholDrinking') to multi-category variables (like 'Race' and 'AgeCategory'). We also have a few variables that may require recoding, like 'Diabetic', where we have categories for 'Yes', 'No', 'No, borderline diabetes', and 'Yes (during pregnancy)'.\n",
    "\n",
    "Before we move on to the next step, let's convert our target variable 'HeartDisease' to a binary format for the ease of our analysis. A '0' will represent 'No', and a '1' will represent 'Yes'. After all, our machine learning algorithms prefer numbers over words!\n",
    "\n",
    "So, let's get our hands dirty and do some data wrangling!"
   ]
  },
  {
   "cell_type": "code",
   "execution_count": 6,
   "id": "b80bab90",
   "metadata": {},
   "outputs": [
    {
     "data": {
      "text/plain": [
       "array([0, 1], dtype=int64)"
      ]
     },
     "execution_count": 6,
     "metadata": {},
     "output_type": "execute_result"
    }
   ],
   "source": [
    "# Convert the target variable 'HeartDisease' to binary format\n",
    "data['HeartDisease'] = data['HeartDisease'].map({'No': 0, 'Yes': 1})\n",
    "\n",
    "# Checking the transformation\n",
    "data['HeartDisease'].unique()"
   ]
  },
  {
   "cell_type": "markdown",
   "id": "24f7286c",
   "metadata": {},
   "source": [
    "Voila! Our target variable 'HeartDisease' is now in binary format, with '0' representing 'No' and '1' representing 'Yes'. This should make things a bit easier when we move on to the modeling stage of our analysis."
   ]
  },
  {
   "cell_type": "markdown",
   "id": "5b3bbcc1",
   "metadata": {},
   "source": [
    "### Step 4: Descriptive statistics"
   ]
  },
  {
   "cell_type": "markdown",
   "id": "8d77f0e3",
   "metadata": {},
   "source": [
    "Now that we've gotten a feel for our data, it's time for us to dig a bit deeper and uncover some descriptive statistics. Consider this the 'getting to know you' stage of our relationship with the data.\n",
    "\n",
    "Let's summarize our numerical variables using measures such as mean, median, standard deviation, and range. We'll also take a look at the distribution of our categorical variables. It's like taking a peek into the lives of our respondents!\n",
    "\n",
    "Ready? Let's dive right in!"
   ]
  },
  {
   "cell_type": "code",
   "execution_count": 7,
   "id": "4cd48098",
   "metadata": {},
   "outputs": [
    {
     "name": "stdout",
     "output_type": "stream",
     "text": [
      "Summary Statistics for Numerical Variables:\n",
      "\n",
      "        HeartDisease            BMI  PhysicalHealth   MentalHealth  \\\n",
      "count  319795.000000  319795.000000    319795.00000  319795.000000   \n",
      "mean        0.085595      28.325399         3.37171       3.898366   \n",
      "std         0.279766       6.356100         7.95085       7.955235   \n",
      "min         0.000000      12.020000         0.00000       0.000000   \n",
      "25%         0.000000      24.030000         0.00000       0.000000   \n",
      "50%         0.000000      27.340000         0.00000       0.000000   \n",
      "75%         0.000000      31.420000         2.00000       3.000000   \n",
      "max         1.000000      94.850000        30.00000      30.000000   \n",
      "\n",
      "           SleepTime  \n",
      "count  319795.000000  \n",
      "mean        7.097075  \n",
      "std         1.436007  \n",
      "min         1.000000  \n",
      "25%         6.000000  \n",
      "50%         7.000000  \n",
      "75%         8.000000  \n",
      "max        24.000000  \n",
      "\n",
      "Distribution of Categorical Variables:\n",
      "\n",
      "Smoking:\n",
      "No     58.752326\n",
      "Yes    41.247674\n",
      "Name: Smoking, dtype: float64\n",
      "\n",
      "AlcoholDrinking:\n",
      "No     93.190325\n",
      "Yes     6.809675\n",
      "Name: AlcoholDrinking, dtype: float64\n",
      "\n",
      "Stroke:\n",
      "No     96.22602\n",
      "Yes     3.77398\n",
      "Name: Stroke, dtype: float64\n",
      "\n",
      "DiffWalking:\n",
      "No     86.112979\n",
      "Yes    13.887021\n",
      "Name: DiffWalking, dtype: float64\n",
      "\n",
      "Sex:\n",
      "Female    52.472678\n",
      "Male      47.527322\n",
      "Name: Sex, dtype: float64\n",
      "\n",
      "AgeCategory:\n",
      "65-69          10.679029\n",
      "60-64          10.533623\n",
      "70-74           9.714036\n",
      "55-59           9.305024\n",
      "50-54           7.936960\n",
      "80 or older     7.552651\n",
      "45-49           6.814053\n",
      "75-79           6.717428\n",
      "18-24           6.586720\n",
      "40-44           6.568583\n",
      "35-39           6.425992\n",
      "30-34           5.864069\n",
      "25-29           5.301834\n",
      "Name: AgeCategory, dtype: float64\n",
      "\n",
      "Race:\n",
      "White                             76.677872\n",
      "Hispanic                           8.582373\n",
      "Black                              7.173033\n",
      "Other                              3.417189\n",
      "Asian                              2.522866\n",
      "American Indian/Alaskan Native     1.626667\n",
      "Name: Race, dtype: float64\n",
      "\n",
      "Diabetic:\n",
      "No                         84.320580\n",
      "Yes                        12.758799\n",
      "No, borderline diabetes     2.120421\n",
      "Yes (during pregnancy)      0.800200\n",
      "Name: Diabetic, dtype: float64\n",
      "\n",
      "PhysicalActivity:\n",
      "Yes    77.536234\n",
      "No     22.463766\n",
      "Name: PhysicalActivity, dtype: float64\n",
      "\n",
      "GenHealth:\n",
      "Very good    35.603433\n",
      "Good         29.121468\n",
      "Excellent    20.901515\n",
      "Fair         10.843509\n",
      "Poor          3.530074\n",
      "Name: GenHealth, dtype: float64\n",
      "\n",
      "Asthma:\n",
      "No     86.593912\n",
      "Yes    13.406088\n",
      "Name: Asthma, dtype: float64\n",
      "\n",
      "KidneyDisease:\n",
      "No     96.316703\n",
      "Yes     3.683297\n",
      "Name: KidneyDisease, dtype: float64\n",
      "\n",
      "SkinCancer:\n",
      "No     90.675589\n",
      "Yes     9.324411\n",
      "Name: SkinCancer, dtype: float64\n",
      "\n"
     ]
    }
   ],
   "source": [
    "# Summary statistics for numerical variables\n",
    "print(\"Summary Statistics for Numerical Variables:\\n\")\n",
    "print(data.describe())\n",
    "\n",
    "# Distribution of categorical variables\n",
    "print(\"\\nDistribution of Categorical Variables:\\n\")\n",
    "categorical_cols = data.select_dtypes(include=['object']).columns\n",
    "for col in categorical_cols:\n",
    "    print(f\"{col}:\\n{data[col].value_counts(normalize=True)*100}\\n\")"
   ]
  },
  {
   "cell_type": "markdown",
   "id": "2de2e44d",
   "metadata": {},
   "source": [
    "Aha! Our data exploration journey is becoming even more exciting!\n",
    "\n",
    "From our numerical variables, we can observe that the average BMI of the respondents is around 28.3, which falls in the 'overweight' category according to the World Health Organization's BMI classification. This could be an important factor to consider in our analysis, as overweight and obesity are known risk factors for heart disease.\n",
    "\n",
    "Also, it's interesting to note that the mean 'SleepTime' is approximately 7 hours. The National Sleep Foundation recommends 7-9 hours of sleep for adults, so it seems our respondents are getting the minimum recommended amount of sleep on average.\n",
    "\n",
    "In our categorical variables, we can observe that the majority of respondents do not smoke, do not drink alcohol, and have not had a stroke. This is good news for their hearts! Also, the majority of respondents do not have difficulty walking, which may indicate a generally good level of physical health.\n",
    "\n",
    "In terms of gender, our respondents are slightly more likely to be female. The age category of '65-69' has the highest representation, and the majority of our respondents are White.\n",
    "\n",
    "Most of our respondents do not have diabetes, engage in physical activity, and rate their general health as either 'very good' or 'good'. These are all positive indicators for heart health.\n",
    "\n",
    "However, let's keep in mind that our target variable 'HeartDisease' is imbalanced, with only about 8.56% of the respondents having heart disease. This imbalance could pose challenges in our predictive modeling, but don't worry, we've got a plan for that!\n",
    "\n",
    "So, are you ready to bring this data to life with some visualizations? Yes, you heard right - it's time to create some eye-catching, insight-providing charts and plots. Let's get our creative juices flowing!"
   ]
  },
  {
   "cell_type": "markdown",
   "id": "2ff0c079",
   "metadata": {},
   "source": [
    "### Step 5: Visualization"
   ]
  },
  {
   "cell_type": "markdown",
   "id": "76a3f7fd",
   "metadata": {},
   "source": [
    "As they say, a picture is worth a thousand numbers (or something like that). Visualizations can help us grasp the complexities of our data, understand patterns, and identify outliers.\n",
    "\n",
    "Hold on tight, as we're about to embark on a rollercoaster ride of histograms, bar charts, and scatter plots. Remember, no screaming on this ride!\n",
    "\n",
    "Let's start by visualizing the distribution of our target variable 'HeartDisease'."
   ]
  },
  {
   "cell_type": "code",
   "execution_count": 8,
   "id": "e279b013",
   "metadata": {},
   "outputs": [
    {
     "data": {
      "image/png": "[encoded data removed]",
      "text/plain": [
       "<Figure size 576x432 with 1 Axes>"
      ]
     },
     "metadata": {},
     "output_type": "display_data"
    }
   ],
   "source": [
    "# Setting up the theme for our plots\n",
    "sns.set_theme(style=\"whitegrid\")\n",
    "\n",
    "# Plotting the distribution of the target variable 'HeartDisease'\n",
    "plt.figure(figsize=(8, 6))\n",
    "sns.countplot(x='HeartDisease', data=data)\n",
    "plt.title('Distribution of Heart Disease', size=20)\n",
    "plt.xticks([0, 1], ['No', 'Yes'])\n",
    "plt.xlabel('Heart Disease', size=12)\n",
    "plt.ylabel('Count', size=12)\n",
    "plt.show()"
   ]
  },
  {
   "cell_type": "markdown",
   "id": "e0c26869",
   "metadata": {},
   "source": [
    "Our first visualization confirms what we discovered earlier: our target variable 'HeartDisease' is indeed imbalanced. Most respondents do not have heart disease (represented by 'No'), while a smaller proportion do have heart disease (represented by 'Yes'). This imbalance is something we'll need to keep in mind when modeling.\n",
    "\n",
    "Now, let's dive a bit deeper and explore the relationships between our target variable 'HeartDisease' and some key predictor variables. We'll start by examining 'BMI', 'Smoking', 'AlcoholDrinking', and 'PhysicalActivity'. We chose these variables because they're commonly associated with heart disease, and we're keen to see if our data supports this association.\n",
    "\n",
    "Fasten your seatbelt and brace yourself for a barrage of bar charts! Let's go!"
   ]
  },
  {
   "cell_type": "code",
   "execution_count": 9,
   "id": "3969cb78",
   "metadata": {},
   "outputs": [
    {
     "data": {
      "image/png": "[encoded data removed]",
      "text/plain": [
       "<Figure size 1296x864 with 4 Axes>"
      ]
     },
     "metadata": {},
     "output_type": "display_data"
    }
   ],
   "source": [
    "# Creating a list of the predictor variables we're interested in\n",
    "predictor_vars = ['BMI', 'Smoking', 'AlcoholDrinking', 'PhysicalActivity']\n",
    "\n",
    "# Setting up the figure and axes for our subplot\n",
    "fig, axs = plt.subplots(nrows=2, ncols=2, figsize=(18, 12))\n",
    "\n",
    "# Flattening the axes object so we can iterate over it\n",
    "axs = axs.flatten()\n",
    "\n",
    "# Creating a bar plot for each predictor variable\n",
    "for i, var in enumerate(predictor_vars):\n",
    "    if var == 'BMI':\n",
    "        # Creating a histogram for the continuous 'BMI' variable\n",
    "        sns.histplot(data, x='BMI', hue='HeartDisease', element='step',\n",
    "                     stat='density', common_norm=False, ax=axs[i])\n",
    "        axs[i].set_title('Distribution of BMI by Heart Disease', size=15)\n",
    "    else:\n",
    "        # Creating a count plot for the categorical variables\n",
    "        sns.countplot(data=data, x=var, hue='HeartDisease', ax=axs[i])\n",
    "        axs[i].set_title(f'Distribution of {var} by Heart Disease', size=15)\n",
    "    axs[i].set_xlabel(var, size=12)\n",
    "    axs[i].set_ylabel('Count', size=12)\n",
    "    axs[i].legend(title='Heart Disease', labels=['No', 'Yes'])\n",
    "\n",
    "# Adjusting the layout for readability\n",
    "plt.tight_layout()\n",
    "plt.show()"
   ]
  },
  {
   "cell_type": "markdown",
   "id": "811e4ade",
   "metadata": {},
   "source": [
    "Wow, our data sure knows how to paint a picture! Let's dissect these visualizations:\n",
    "\n",
    "1. **BMI**: The 'BMI' histogram shows us that regardless of whether a person has heart disease or not, the BMI distribution remains similar. Both distributions peak around the same BMI values and have similar shapes. This may suggest that BMI alone might not be a strong predictor of heart disease, contrary to popular belief. However, further analysis is needed to confirm this.\n",
    "\n",
    "2. **Smoking**: The bar chart for 'Smoking' reveals that among those who do not smoke, a lower percentage of individuals have heart disease compared to those who do smoke. This suggests that smoking could indeed be associated with a higher risk of heart disease. It seems like our lungs aren't the only ones complaining about smoking!\n",
    "\n",
    "3. **Alcohol Drinking**: The 'AlcoholDrinking' bar chart shows that the percentage of individuals with heart disease is slightly higher among those who do not drink alcohol compared to those who do. This is somewhat surprising, as excessive alcohol consumption is often associated with increased heart disease risk. However, our variable doesn't distinguish between moderate and heavy drinkers, which could explain this finding.\n",
    "\n",
    "4. **Physical Activity**: The 'PhysicalActivity' bar chart illustrates that a higher percentage of individuals who do not engage in physical activity have heart disease compared to those who do. This supports the widely accepted belief that physical activity is beneficial for heart health. Time to dust off that gym membership!"
   ]
  },
  {
   "cell_type": "markdown",
   "id": "cfa658c2",
   "metadata": {},
   "source": [
    "These visualizations give us some valuable insights, but we're just scratching the surface. Let's continue our exploratory journey by examining the relationships between 'HeartDisease' and some other potential risk factors. Ready for more? Of course you are! Let's get back to it."
   ]
  },
  {
   "cell_type": "code",
   "execution_count": 10,
   "id": "2ff3070f",
   "metadata": {},
   "outputs": [
    {
     "data": {
      "image/png": "[encoded data removed]",
      "text/plain": [
       "<Figure size 1296x864 with 4 Axes>"
      ]
     },
     "metadata": {},
     "output_type": "display_data"
    }
   ],
   "source": [
    "# Creating a list of additional predictor variables we're interested in\n",
    "additional_vars = ['Diabetic', 'GenHealth', 'PhysicalHealth', 'MentalHealth']\n",
    "\n",
    "# Setting up the figure and axes for our subplot\n",
    "fig, axs = plt.subplots(nrows=2, ncols=2, figsize=(18, 12))\n",
    "\n",
    "# Flattening the axes object so we can iterate over it\n",
    "axs = axs.flatten()\n",
    "\n",
    "# Creating a bar plot for each additional predictor variable\n",
    "for i, var in enumerate(additional_vars):\n",
    "    if var in ['PhysicalHealth', 'MentalHealth']:\n",
    "        # Creating a histogram for the continuous 'PhysicalHealth' and 'MentalHealth' variables\n",
    "        sns.histplot(data, x=var, hue='HeartDisease', element='step',\n",
    "                     stat='density', common_norm=False, ax=axs[i])\n",
    "        axs[i].set_title(f'Distribution of {var} by Heart Disease', size=15)\n",
    "    else:\n",
    "        # Creating a count plot for the categorical variables\n",
    "        sns.countplot(data=data, x=var, hue='HeartDisease', ax=axs[i])\n",
    "        axs[i].set_title(f'Distribution of {var} by Heart Disease', size=15)\n",
    "    axs[i].set_xlabel(var, size=12)\n",
    "    axs[i].set_ylabel('Count', size=12)\n",
    "    axs[i].legend(title='Heart Disease', labels=['No', 'Yes'])\n",
    "\n",
    "# Adjusting the layout for readability\n",
    "plt.tight_layout()\n",
    "plt.show()"
   ]
  },
  {
   "cell_type": "markdown",
   "id": "8adac217",
   "metadata": {},
   "source": [
    "Our data keeps on delivering surprises! Let's interpret these fresh insights:\n",
    "\n",
    "1. **Diabetic**: The 'Diabetic' bar chart shows a higher percentage of individuals with heart disease among those who are diabetic or have borderline diabetes. This aligns with our understanding that diabetes is a significant risk factor for heart disease.\n",
    "\n",
    "2. **GenHealth**: The 'GenHealth' bar chart reveals that as the self-perceived general health status worsens (from 'Excellent' to 'Poor'), the percentage of individuals with heart disease increases. This suggests a strong relationship between general health perception and heart disease risk.\n",
    "\n",
    "3. **PhysicalHealth**: The 'PhysicalHealth' histogram indicates that individuals with heart disease tend to report more physically unhealthy days compared to those without heart disease. This could be because heart disease often comes with physical symptoms and limitations.\n",
    "\n",
    "4. **MentalHealth**: Similarly, the 'MentalHealth' histogram shows that individuals with heart disease tend to report more mentally unhealthy days. This could be due to the psychological stress associated with living with a chronic illness like heart disease.\n",
    "\n",
    "These visualizations give us a deeper understanding of our data and the relationships between heart disease and various risk factors. However, a picture might be worth a thousand words, but it's the numbers that will give us the power to predict."
   ]
  },
  {
   "cell_type": "markdown",
   "id": "be97dfeb",
   "metadata": {},
   "source": [
    "So, are you ready to put our data to the test and create a predictive model for heart disease risk? Let's put our data science cap back on and get ready for some serious number crunching! We're about to embark on the modeling stage of our analysis. Let's go!"
   ]
  },
  {
   "cell_type": "markdown",
   "id": "5abd7403",
   "metadata": {},
   "source": [
    "### Step 6: Modeling an algorithm for risk predictions"
   ]
  },
  {
   "cell_type": "markdown",
   "id": "db8bba5c",
   "metadata": {},
   "source": [
    "To predict heart disease risk, we'll use a logistic regression model. Why, you ask? Well, logistic regression is a go-to method for binary classification problems like ours. It's simple, fast, and provides a good baseline for more complex models.\n",
    "\n",
    "But before we dive into modeling, we need to prepare our data. This includes encoding our categorical variables, splitting our data into training and testing sets, and scaling our numerical variables. It may sound like a lot, but don't worry, we'll take it one step at a time.\n",
    "\n",
    "Let's roll up our sleeves and get to work! Here we go..."
   ]
  },
  {
   "cell_type": "code",
   "execution_count": 11,
   "id": "06e434bf",
   "metadata": {},
   "outputs": [
    {
     "data": {
      "text/html": [
       "<div>\n",
       "<style scoped>\n",
       "    .dataframe tbody tr th:only-of-type {\n",
       "        vertical-align: middle;\n",
       "    }\n",
       "\n",
       "    .dataframe tbody tr th {\n",
       "        vertical-align: top;\n",
       "    }\n",
       "\n",
       "    .dataframe thead th {\n",
       "        text-align: right;\n",
       "    }\n",
       "</style>\n",
       "<table border=\"1\" class=\"dataframe\">\n",
       "  <thead>\n",
       "    <tr style=\"text-align: right;\">\n",
       "      <th></th>\n",
       "      <th>BMI</th>\n",
       "      <th>PhysicalHealth</th>\n",
       "      <th>MentalHealth</th>\n",
       "      <th>SleepTime</th>\n",
       "      <th>Smoking_Yes</th>\n",
       "      <th>AlcoholDrinking_Yes</th>\n",
       "      <th>Stroke_Yes</th>\n",
       "      <th>DiffWalking_Yes</th>\n",
       "      <th>Sex_Male</th>\n",
       "      <th>AgeCategory_25-29</th>\n",
       "      <th>...</th>\n",
       "      <th>Diabetic_Yes</th>\n",
       "      <th>Diabetic_Yes (during pregnancy)</th>\n",
       "      <th>PhysicalActivity_Yes</th>\n",
       "      <th>GenHealth_Fair</th>\n",
       "      <th>GenHealth_Good</th>\n",
       "      <th>GenHealth_Poor</th>\n",
       "      <th>GenHealth_Very good</th>\n",
       "      <th>Asthma_Yes</th>\n",
       "      <th>KidneyDisease_Yes</th>\n",
       "      <th>SkinCancer_Yes</th>\n",
       "    </tr>\n",
       "  </thead>\n",
       "  <tbody>\n",
       "    <tr>\n",
       "      <th>0</th>\n",
       "      <td>-0.740760</td>\n",
       "      <td>3.348239</td>\n",
       "      <td>3.278828</td>\n",
       "      <td>-1.460426</td>\n",
       "      <td>1.194864</td>\n",
       "      <td>-0.269873</td>\n",
       "      <td>-0.197601</td>\n",
       "      <td>2.492537</td>\n",
       "      <td>-0.951353</td>\n",
       "      <td>-0.236679</td>\n",
       "      <td>...</td>\n",
       "      <td>-0.38313</td>\n",
       "      <td>-0.089986</td>\n",
       "      <td>-1.855237</td>\n",
       "      <td>2.868732</td>\n",
       "      <td>-0.640616</td>\n",
       "      <td>-0.191498</td>\n",
       "      <td>-0.744379</td>\n",
       "      <td>2.550954</td>\n",
       "      <td>-0.196176</td>\n",
       "      <td>-0.321037</td>\n",
       "    </tr>\n",
       "    <tr>\n",
       "      <th>1</th>\n",
       "      <td>-0.928238</td>\n",
       "      <td>-0.298486</td>\n",
       "      <td>-0.490383</td>\n",
       "      <td>0.627913</td>\n",
       "      <td>-0.836915</td>\n",
       "      <td>-0.269873</td>\n",
       "      <td>-0.197601</td>\n",
       "      <td>-0.401198</td>\n",
       "      <td>1.051135</td>\n",
       "      <td>4.225124</td>\n",
       "      <td>...</td>\n",
       "      <td>-0.38313</td>\n",
       "      <td>-0.089986</td>\n",
       "      <td>0.539015</td>\n",
       "      <td>-0.348586</td>\n",
       "      <td>-0.640616</td>\n",
       "      <td>-0.191498</td>\n",
       "      <td>1.343401</td>\n",
       "      <td>-0.392010</td>\n",
       "      <td>-0.196176</td>\n",
       "      <td>-0.321037</td>\n",
       "    </tr>\n",
       "    <tr>\n",
       "      <th>2</th>\n",
       "      <td>0.781121</td>\n",
       "      <td>2.090748</td>\n",
       "      <td>3.278828</td>\n",
       "      <td>-0.068200</td>\n",
       "      <td>1.194864</td>\n",
       "      <td>-0.269873</td>\n",
       "      <td>-0.197601</td>\n",
       "      <td>-0.401198</td>\n",
       "      <td>-0.951353</td>\n",
       "      <td>-0.236679</td>\n",
       "      <td>...</td>\n",
       "      <td>-0.38313</td>\n",
       "      <td>-0.089986</td>\n",
       "      <td>-1.855237</td>\n",
       "      <td>2.868732</td>\n",
       "      <td>-0.640616</td>\n",
       "      <td>-0.191498</td>\n",
       "      <td>-0.744379</td>\n",
       "      <td>-0.392010</td>\n",
       "      <td>-0.196176</td>\n",
       "      <td>-0.321037</td>\n",
       "    </tr>\n",
       "    <tr>\n",
       "      <th>3</th>\n",
       "      <td>-0.529650</td>\n",
       "      <td>-0.424236</td>\n",
       "      <td>-0.490383</td>\n",
       "      <td>0.627913</td>\n",
       "      <td>1.194864</td>\n",
       "      <td>-0.269873</td>\n",
       "      <td>-0.197601</td>\n",
       "      <td>-0.401198</td>\n",
       "      <td>-0.951353</td>\n",
       "      <td>-0.236679</td>\n",
       "      <td>...</td>\n",
       "      <td>-0.38313</td>\n",
       "      <td>-0.089986</td>\n",
       "      <td>0.539015</td>\n",
       "      <td>-0.348586</td>\n",
       "      <td>-0.640616</td>\n",
       "      <td>-0.191498</td>\n",
       "      <td>1.343401</td>\n",
       "      <td>-0.392010</td>\n",
       "      <td>-0.196176</td>\n",
       "      <td>-0.321037</td>\n",
       "    </tr>\n",
       "    <tr>\n",
       "      <th>4</th>\n",
       "      <td>-0.168873</td>\n",
       "      <td>-0.424236</td>\n",
       "      <td>-0.490383</td>\n",
       "      <td>-1.460426</td>\n",
       "      <td>1.194864</td>\n",
       "      <td>-0.269873</td>\n",
       "      <td>-0.197601</td>\n",
       "      <td>-0.401198</td>\n",
       "      <td>-0.951353</td>\n",
       "      <td>-0.236679</td>\n",
       "      <td>...</td>\n",
       "      <td>-0.38313</td>\n",
       "      <td>-0.089986</td>\n",
       "      <td>0.539015</td>\n",
       "      <td>-0.348586</td>\n",
       "      <td>-0.640616</td>\n",
       "      <td>-0.191498</td>\n",
       "      <td>1.343401</td>\n",
       "      <td>-0.392010</td>\n",
       "      <td>-0.196176</td>\n",
       "      <td>-0.321037</td>\n",
       "    </tr>\n",
       "  </tbody>\n",
       "</table>\n",
       "<p>5 rows × 37 columns</p>\n",
       "</div>"
      ],
      "text/plain": [
       "        BMI  PhysicalHealth  MentalHealth  SleepTime  Smoking_Yes  \\\n",
       "0 -0.740760        3.348239      3.278828  -1.460426     1.194864   \n",
       "1 -0.928238       -0.298486     -0.490383   0.627913    -0.836915   \n",
       "2  0.781121        2.090748      3.278828  -0.068200     1.194864   \n",
       "3 -0.529650       -0.424236     -0.490383   0.627913     1.194864   \n",
       "4 -0.168873       -0.424236     -0.490383  -1.460426     1.194864   \n",
       "\n",
       "   AlcoholDrinking_Yes  Stroke_Yes  DiffWalking_Yes  Sex_Male  \\\n",
       "0            -0.269873   -0.197601         2.492537 -0.951353   \n",
       "1            -0.269873   -0.197601        -0.401198  1.051135   \n",
       "2            -0.269873   -0.197601        -0.401198 -0.951353   \n",
       "3            -0.269873   -0.197601        -0.401198 -0.951353   \n",
       "4            -0.269873   -0.197601        -0.401198 -0.951353   \n",
       "\n",
       "   AgeCategory_25-29  ...  Diabetic_Yes  Diabetic_Yes (during pregnancy)  \\\n",
       "0          -0.236679  ...      -0.38313                        -0.089986   \n",
       "1           4.225124  ...      -0.38313                        -0.089986   \n",
       "2          -0.236679  ...      -0.38313                        -0.089986   \n",
       "3          -0.236679  ...      -0.38313                        -0.089986   \n",
       "4          -0.236679  ...      -0.38313                        -0.089986   \n",
       "\n",
       "   PhysicalActivity_Yes  GenHealth_Fair  GenHealth_Good  GenHealth_Poor  \\\n",
       "0             -1.855237        2.868732       -0.640616       -0.191498   \n",
       "1              0.539015       -0.348586       -0.640616       -0.191498   \n",
       "2             -1.855237        2.868732       -0.640616       -0.191498   \n",
       "3              0.539015       -0.348586       -0.640616       -0.191498   \n",
       "4              0.539015       -0.348586       -0.640616       -0.191498   \n",
       "\n",
       "   GenHealth_Very good  Asthma_Yes  KidneyDisease_Yes  SkinCancer_Yes  \n",
       "0            -0.744379    2.550954          -0.196176       -0.321037  \n",
       "1             1.343401   -0.392010          -0.196176       -0.321037  \n",
       "2            -0.744379   -0.392010          -0.196176       -0.321037  \n",
       "3             1.343401   -0.392010          -0.196176       -0.321037  \n",
       "4             1.343401   -0.392010          -0.196176       -0.321037  \n",
       "\n",
       "[5 rows x 37 columns]"
      ]
     },
     "execution_count": 11,
     "metadata": {},
     "output_type": "execute_result"
    }
   ],
   "source": [
    "# Encoding categorical variables\n",
    "data_encoded = pd.get_dummies(data, drop_first=True)\n",
    "\n",
    "# Splitting the data into predictors (X) and target (y)\n",
    "X = data_encoded.drop('HeartDisease', axis=1)\n",
    "y = data_encoded['HeartDisease']\n",
    "\n",
    "# Splitting the data into training and testing sets\n",
    "X_train, X_test, y_train, y_test = train_test_split(\n",
    "    X, y, test_size=0.2, random_state=42, stratify=y)\n",
    "\n",
    "# Scaling the numerical variables\n",
    "scaler = StandardScaler()\n",
    "X_train = pd.DataFrame(scaler.fit_transform(X_train), columns=X.columns)\n",
    "X_test = pd.DataFrame(scaler.transform(X_test), columns=X.columns)\n",
    "\n",
    "# Checking the transformation\n",
    "X_train.head()"
   ]
  },
  {
   "cell_type": "markdown",
   "id": "984fe7ad",
   "metadata": {},
   "source": [
    "Perfect! Our data is now ready for modeling. Notice how our categorical variables have been transformed into binary format (0 or 1) using one-hot encoding. This is necessary because our machine learning algorithm won't understand categorical data in its raw, text format.\n",
    "\n",
    "Also, our numerical variables have been scaled, meaning they now have a mean of 0 and a standard deviation of 1. This step ensures that all variables contribute equally to our model, preventing variables with larger scales from dominating.\n",
    "\n",
    "Now, let's move on to the fun part: building and training our logistic regression model! Ready, set, model!"
   ]
  },
  {
   "cell_type": "code",
   "execution_count": 12,
   "id": "fc91f84a",
   "metadata": {},
   "outputs": [
    {
     "data": {
      "text/plain": [
       "0.9164621085382824"
      ]
     },
     "execution_count": 12,
     "metadata": {},
     "output_type": "execute_result"
    }
   ],
   "source": [
    "# Initializing the logistic regression model\n",
    "logreg = LogisticRegression(random_state=42)\n",
    "\n",
    "# Fitting the model to our training data\n",
    "logreg.fit(X_train, y_train)\n",
    "\n",
    "# Predicting the target variable for our testing data\n",
    "y_pred = logreg.predict(X_test)\n",
    "\n",
    "# Calculating the accuracy of our model\n",
    "accuracy = accuracy_score(y_test, y_pred)\n",
    "\n",
    "accuracy"
   ]
  },
  {
   "cell_type": "markdown",
   "id": "27bdd8be",
   "metadata": {},
   "source": [
    "Eureka! Our logistic regression model has an accuracy of approximately 91.65%. That's like hitting a bullseye with your first dart throw! We've managed to correctly classify around 92% of the cases in our test data. Now that's something to celebrate!\n",
    "\n",
    "But wait! Although accuracy is a commonly used metric for model evaluation, it's not always the best one, especially for imbalanced datasets like ours. So, let's also look at the confusion matrix and the classification report of our model to get a more comprehensive understanding of its performance.\n",
    "\n",
    "Ready to delve deeper into the evaluation of our model? Let's go!"
   ]
  },
  {
   "cell_type": "code",
   "execution_count": 13,
   "id": "1002855f",
   "metadata": {},
   "outputs": [
    {
     "name": "stdout",
     "output_type": "stream",
     "text": [
      "Confusion Matrix:\n",
      "\n",
      "[[58024   460]\n",
      " [ 4883   592]]\n",
      "\n",
      "Classification Report:\n",
      "\n",
      "              precision    recall  f1-score   support\n",
      "\n",
      "           0       0.92      0.99      0.96     58484\n",
      "           1       0.56      0.11      0.18      5475\n",
      "\n",
      "    accuracy                           0.92     63959\n",
      "   macro avg       0.74      0.55      0.57     63959\n",
      "weighted avg       0.89      0.92      0.89     63959\n",
      "\n"
     ]
    }
   ],
   "source": [
    "# Creating the confusion matrix\n",
    "conf_matrix = confusion_matrix(y_test, y_pred)\n",
    "\n",
    "# Creating the classification report\n",
    "class_report = classification_report(y_test, y_pred)\n",
    "\n",
    "print(\"Confusion Matrix:\\n\")\n",
    "print(conf_matrix)\n",
    "print(\"\\nClassification Report:\\n\")\n",
    "print(class_report)"
   ]
  },
  {
   "cell_type": "markdown",
   "id": "fbded214",
   "metadata": {},
   "source": [
    "Our confusion matrix and classification report provide some additional insights:\n",
    "\n",
    "- **Confusion Matrix**: The first row shows that our model correctly predicted 58,024 true negatives (people without heart disease) and misclassified 460 as false positives (predicted to have heart disease but actually don't). The second row shows that the model correctly predicted 592 true positives (people with heart disease) but misclassified 4,883 as false negatives (predicted not to have heart disease but actually do). It seems like our model is doing a good job of identifying people without heart disease but is struggling to correctly classify those with heart disease.\n",
    "\n",
    "- **Classification Report**: The precision for predicting heart disease (Yes) is 0.56, meaning that when our model predicts someone has heart disease, it's correct about 56% of the time. The recall (or sensitivity) for predicting heart disease is 0.11, indicating that our model correctly identifies only about 11% of all actual heart disease cases. The F1-score, which balances precision and recall, is quite low at 0.18 for predicting heart disease.\n",
    "\n",
    "So, while our model has a high accuracy, its ability to correctly identify cases of heart disease is quite limited. This is likely due to the imbalanced nature of our dataset, where most people do not have heart disease.\n",
    "\n",
    "But fear not! There are ways to address this issue, such as oversampling the minority class, undersampling the majority class, or using different performance metrics that are more robust to imbalanced datasets.\n",
    "\n",
    "However, for the purposes of this project, we've demonstrated the process of performing a complete data analysis, from data cleaning and EDA to predictive modeling.\n",
    "\n",
    "So, let's conclude our analysis and highlight some of the key findings and action points! "
   ]
  },
  {
   "cell_type": "markdown",
   "id": "d0eedf1f",
   "metadata": {},
   "source": [
    "### Step 7: Conclusions and action points"
   ]
  },
  {
   "cell_type": "markdown",
   "id": "4944f503",
   "metadata": {},
   "source": [
    "Our data analysis journey has taken us through the ins and outs of the 2020 Heart Disease dataset. We've delved deep into the data, conducted exploratory data analysis, performed descriptive statistics, created visualizations, and built a predictive model. It's been quite a ride, hasn't it?\n",
    "\n",
    "From our analysis, we've drawn the following key conclusions:\n",
    "\n",
    "1. **Smoking and Physical Activity**: Our analysis supports the widely accepted understanding that smoking is associated with a higher risk of heart disease, while physical activity is linked to a lower risk.\n",
    "\n",
    "2. **BMI**: Contrary to popular belief, our data suggests that BMI alone might not be a strong predictor of heart disease.\n",
    "\n",
    "3. **Alcohol Drinking**: The relationship between alcohol drinking and heart disease risk was less clear, possibly due to the lack of differentiation between moderate and heavy drinkers in our data.\n",
    "\n",
    "4. **Diabetes and General Health Perception**: Our analysis suggests a strong relationship between diabetes and heart disease risk, as well as between general health perception and heart disease risk."
   ]
  },
  {
   "cell_type": "markdown",
   "id": "d31774f3",
   "metadata": {},
   "source": [
    "However, our predictive model faced challenges due to the imbalanced nature of our dataset. While the model had a high accuracy, it struggled to correctly identify cases of heart disease.\n",
    "\n",
    "Now, onto the action points:\n",
    "\n",
    "1. Further Investigation: Our findings suggest that variables such as smoking, physical activity, diabetes, and general health perception warrant further investigation as potential risk factors for heart disease.\n",
    "\n",
    "2. Data Collection: Future data collection efforts should consider differentiating between moderate and heavy alcohol drinkers, as this could influence the relationship between alcohol drinking and heart disease risk.\n",
    "\n",
    "3. Model Improvement: To improve the predictive power of our model, techniques such as oversampling the minority class, undersampling the majority class, or using performance metrics more robust to imbalanced datasets could be explored."
   ]
  },
  {
   "cell_type": "markdown",
   "id": "aef7af64",
   "metadata": {},
   "source": [
    "This concludes our data analysis journey. I hope you've found it as exciting and insightful as I did. Remember, data science isn't just about numbers and algorithms; it's about understanding the story the data is trying to tell us. And in this case, our data told us a story about heart disease risk factors that we can use to contribute to a healthier and happier world. Thank you for embarking on this data science adventure with me! Until next time, keep your heart healthy and your data clean!"
   ]
  },
  {
   "cell_type": "markdown",
   "id": "b9b81eea",
   "metadata": {},
   "source": [
    "> WP, 2023"
   ]
  }
 ],
 "metadata": {
  "kernelspec": {
   "display_name": "Python 3 (ipykernel)",
   "language": "python",
   "name": "python3"
  },
  "language_info": {
   "codemirror_mode": {
    "name": "ipython",
    "version": 3
   },
   "file_extension": ".py",
   "mimetype": "text/x-python",
   "name": "python",
   "nbconvert_exporter": "python",
   "pygments_lexer": "ipython3",
   "version": "3.9.12"
  },
  "toc": {
   "base_numbering": 1,
   "nav_menu": {},
   "number_sections": false,
   "sideBar": true,
   "skip_h1_title": false,
   "title_cell": "Table of Contents",
   "title_sidebar": "Contents",
   "toc_cell": false,
   "toc_position": {},
   "toc_section_display": true,
   "toc_window_display": false
  }
 },
 "nbformat": 4,
 "nbformat_minor": 5
}
