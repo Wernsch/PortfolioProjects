{
 "cells": [
  {
   "cell_type": "markdown",
   "id": "6de4e909",
   "metadata": {},
   "source": [
    "# 🌟 <font color=\"#071952\">TripAdvisor Hotel Reviews: A Deep Dive 🌟"
   ]
  },
  {
   "cell_type": "markdown",
   "id": "da79300f",
   "metadata": {},
   "source": [
    "#### Sentiment Analysis - Analyzing reviews is like reading a book where each review is a page, and together they tell a story. Let's uncover the story these hotel reviews are trying to tell!"
   ]
  },
  {
   "cell_type": "markdown",
   "id": "574832c5",
   "metadata": {},
   "source": [
    "## <font color=\"#0B666A\">Table of Contents:\n",
    "\n",
    "1. [Introduction & Data Peek](#introduction)\n",
    "2. [Data Cleaning & Preprocessing](#data-cleaning-and-preprocessing)\n",
    "3. [Exploratory Data Analysis (EDA)](#exploratory-data-analysis)\n",
    "4. [Predicting Review Ratings](#predicting-review-ratings)\n",
    "5. [Sentiment Analysis](#sentiment-analysis)\n",
    "6. [Predictions Using the Sentiment Model](#predictions-using-the-sentiment-model)\n",
    "7. [Conclusion](#conclusion)"
   ]
  },
  {
   "cell_type": "markdown",
   "id": "27a86f32",
   "metadata": {},
   "source": [
    "### <font color=\"#0B666A\">1. Introduction<a name=\"introduction\"></a>"
   ]
  },
  {
   "cell_type": "markdown",
   "id": "51aef2f1",
   "metadata": {},
   "source": [
    "Hello there! If you've stumbled upon this Jupyter Notebook, then either you are lost in the vast world of data science or you have an insatiable thirst for knowledge. Either way, you're in for a treat. Today, we'll be analyzing TripAdvisor hotel reviews because who doesn't like to know what makes a hotel stay feel like heaven or, occasionally, the other place...\n",
    "\n",
    "Before we jump into the deep end, let's take a quick peek at our data to get a sense of what we're working with."
   ]
  },
  {
   "cell_type": "markdown",
   "id": "a006d79a",
   "metadata": {},
   "source": [
    "`Source of the dataset: https://www.kaggle.com/datasets/andrewmvd/trip-advisor-hotel-reviews/code?datasetId=897156&sortBy=voteCount `"
   ]
  },
  {
   "cell_type": "code",
   "execution_count": 3,
   "id": "b0e1951c",
   "metadata": {
    "code_folding": [
     0
    ]
   },
   "outputs": [],
   "source": [
    "# Importing the relevant packages\n",
    "\n",
    "# Core libraries\n",
    "import pandas as pd\n",
    "import numpy as np\n",
    "\n",
    "# Data visualization libraries\n",
    "import matplotlib.pyplot as plt\n",
    "import seaborn as sns\n",
    "\n",
    "# Text preprocessing and NLP libraries\n",
    "import re\n",
    "import nltk\n",
    "from nltk.corpus import stopwords\n",
    "from nltk.tokenize import word_tokenize\n",
    "import gensim\n",
    "from gensim.models import Word2Vec\n",
    "\n",
    "# Data preprocessing and transformation libraries\n",
    "from sklearn.preprocessing import StandardScaler\n",
    "from sklearn.feature_extraction.text import TfidfVectorizer\n",
    "from scipy.sparse import hstack\n",
    "\n",
    "# Model training and evaluation\n",
    "from sklearn.model_selection import train_test_split\n",
    "from sklearn.linear_model import LogisticRegression\n",
    "from sklearn.ensemble import GradientBoostingClassifier\n",
    "from sklearn.metrics import classification_report, accuracy_score\n"
   ]
  },
  {
   "cell_type": "markdown",
   "id": "6be9c81e",
   "metadata": {},
   "source": [
    "Let's peek at the data, shall we? Before we jump into the deep end, let's take a quick peek at our data to get a sense of what we're working with."
   ]
  },
  {
   "cell_type": "code",
   "execution_count": 4,
   "id": "89c1cf98",
   "metadata": {
    "code_folding": [
     0
    ]
   },
   "outputs": [
    {
     "data": {
      "text/html": [
       "<div>\n",
       "<style scoped>\n",
       "    .dataframe tbody tr th:only-of-type {\n",
       "        vertical-align: middle;\n",
       "    }\n",
       "\n",
       "    .dataframe tbody tr th {\n",
       "        vertical-align: top;\n",
       "    }\n",
       "\n",
       "    .dataframe thead th {\n",
       "        text-align: right;\n",
       "    }\n",
       "</style>\n",
       "<table border=\"1\" class=\"dataframe\">\n",
       "  <thead>\n",
       "    <tr style=\"text-align: right;\">\n",
       "      <th></th>\n",
       "      <th>Review</th>\n",
       "      <th>Rating</th>\n",
       "    </tr>\n",
       "  </thead>\n",
       "  <tbody>\n",
       "    <tr>\n",
       "      <th>0</th>\n",
       "      <td>nice hotel expensive parking got good deal sta...</td>\n",
       "      <td>4</td>\n",
       "    </tr>\n",
       "    <tr>\n",
       "      <th>1</th>\n",
       "      <td>ok nothing special charge diamond member hilto...</td>\n",
       "      <td>2</td>\n",
       "    </tr>\n",
       "    <tr>\n",
       "      <th>2</th>\n",
       "      <td>nice rooms not 4* experience hotel monaco seat...</td>\n",
       "      <td>3</td>\n",
       "    </tr>\n",
       "    <tr>\n",
       "      <th>3</th>\n",
       "      <td>unique, great stay, wonderful time hotel monac...</td>\n",
       "      <td>5</td>\n",
       "    </tr>\n",
       "    <tr>\n",
       "      <th>4</th>\n",
       "      <td>great stay great stay, went seahawk game aweso...</td>\n",
       "      <td>5</td>\n",
       "    </tr>\n",
       "  </tbody>\n",
       "</table>\n",
       "</div>"
      ],
      "text/plain": [
       "                                              Review  Rating\n",
       "0  nice hotel expensive parking got good deal sta...       4\n",
       "1  ok nothing special charge diamond member hilto...       2\n",
       "2  nice rooms not 4* experience hotel monaco seat...       3\n",
       "3  unique, great stay, wonderful time hotel monac...       5\n",
       "4  great stay great stay, went seahawk game aweso...       5"
      ]
     },
     "execution_count": 4,
     "metadata": {},
     "output_type": "execute_result"
    }
   ],
   "source": [
    "# Load the dataset\n",
    "df = pd.read_csv(r\"data/tripadvisor_hotel_reviews.csv\")\n",
    "df.head()"
   ]
  },
  {
   "cell_type": "markdown",
   "id": "19c68caf",
   "metadata": {},
   "source": [
    "Ah, simplicity! Each row represents a review with its respective rating. The 'Review' column contains the text of the review, while the 'Rating' column contains a score from 1 to 5. A score of 1 probably means \"I'd rather sleep in a haunted house\", while a score of 5 translates to \"I felt like royalty!\"."
   ]
  },
  {
   "cell_type": "markdown",
   "id": "abfca3c3",
   "metadata": {},
   "source": [
    "### <font color=\"#0B666A\">2. Data cleaning & preprocessing <a name=\"data-cleaning-and-preprocessing\"></a>"
   ]
  },
  {
   "cell_type": "markdown",
   "id": "9b9cdd94",
   "metadata": {},
   "source": [
    "Before we indulge in the juicy bits of analysis, we need to ensure our data is as pristine as a newly laundered shirt. This involves handling missing values, normalizing the text, and tokenizing the reviews. Let's embark on this cleaning spree!"
   ]
  },
  {
   "cell_type": "code",
   "execution_count": 5,
   "id": "39ee83fb",
   "metadata": {
    "code_folding": [
     0
    ]
   },
   "outputs": [
    {
     "name": "stderr",
     "output_type": "stream",
     "text": [
      "[nltk_data] Downloading package stopwords to\n",
      "[nltk_data]     C:\\Users\\user\\AppData\\Roaming\\nltk_data...\n",
      "[nltk_data]   Package stopwords is already up-to-date!\n",
      "[nltk_data] Downloading package punkt to\n",
      "[nltk_data]     C:\\Users\\user\\AppData\\Roaming\\nltk_data...\n",
      "[nltk_data]   Package punkt is already up-to-date!\n"
     ]
    },
    {
     "data": {
      "text/html": [
       "<div>\n",
       "<style scoped>\n",
       "    .dataframe tbody tr th:only-of-type {\n",
       "        vertical-align: middle;\n",
       "    }\n",
       "\n",
       "    .dataframe tbody tr th {\n",
       "        vertical-align: top;\n",
       "    }\n",
       "\n",
       "    .dataframe thead th {\n",
       "        text-align: right;\n",
       "    }\n",
       "</style>\n",
       "<table border=\"1\" class=\"dataframe\">\n",
       "  <thead>\n",
       "    <tr style=\"text-align: right;\">\n",
       "      <th></th>\n",
       "      <th>Review</th>\n",
       "      <th>Rating</th>\n",
       "      <th>Processed_Review</th>\n",
       "    </tr>\n",
       "  </thead>\n",
       "  <tbody>\n",
       "    <tr>\n",
       "      <th>0</th>\n",
       "      <td>nice hotel expensive parking got good deal sta...</td>\n",
       "      <td>4</td>\n",
       "      <td>nice hotel expensive parking got good deal sta...</td>\n",
       "    </tr>\n",
       "    <tr>\n",
       "      <th>1</th>\n",
       "      <td>ok nothing special charge diamond member hilto...</td>\n",
       "      <td>2</td>\n",
       "      <td>ok nothing special charge diamond member hilto...</td>\n",
       "    </tr>\n",
       "    <tr>\n",
       "      <th>2</th>\n",
       "      <td>nice rooms not 4* experience hotel monaco seat...</td>\n",
       "      <td>3</td>\n",
       "      <td>nice rooms experience hotel monaco seattle goo...</td>\n",
       "    </tr>\n",
       "    <tr>\n",
       "      <th>3</th>\n",
       "      <td>unique, great stay, wonderful time hotel monac...</td>\n",
       "      <td>5</td>\n",
       "      <td>unique great stay wonderful time hotel monaco ...</td>\n",
       "    </tr>\n",
       "    <tr>\n",
       "      <th>4</th>\n",
       "      <td>great stay great stay, went seahawk game aweso...</td>\n",
       "      <td>5</td>\n",
       "      <td>great stay great stay went seahawk game awesom...</td>\n",
       "    </tr>\n",
       "  </tbody>\n",
       "</table>\n",
       "</div>"
      ],
      "text/plain": [
       "                                              Review  Rating  \\\n",
       "0  nice hotel expensive parking got good deal sta...       4   \n",
       "1  ok nothing special charge diamond member hilto...       2   \n",
       "2  nice rooms not 4* experience hotel monaco seat...       3   \n",
       "3  unique, great stay, wonderful time hotel monac...       5   \n",
       "4  great stay great stay, went seahawk game aweso...       5   \n",
       "\n",
       "                                    Processed_Review  \n",
       "0  nice hotel expensive parking got good deal sta...  \n",
       "1  ok nothing special charge diamond member hilto...  \n",
       "2  nice rooms experience hotel monaco seattle goo...  \n",
       "3  unique great stay wonderful time hotel monaco ...  \n",
       "4  great stay great stay went seahawk game awesom...  "
      ]
     },
     "execution_count": 5,
     "metadata": {},
     "output_type": "execute_result"
    }
   ],
   "source": [
    "# Downloading the stopwords from nltk\n",
    "nltk.download('stopwords')\n",
    "nltk.download('punkt')\n",
    "\n",
    "# Getting the list of stopwords from nltk\n",
    "stopwords_list = set(stopwords.words('english'))\n",
    "\n",
    "def preprocess_text(text):\n",
    "    # Convert to lowercase\n",
    "    text = text.lower()\n",
    "    # Remove punctuations and numbers\n",
    "    text = re.sub('[^a-z\\s]', '', text)\n",
    "    # Tokenize the text\n",
    "    words = word_tokenize(text)\n",
    "    # Remove stopwords\n",
    "    words = [word for word in words if word not in stopwords_list]\n",
    "    return ' '.join(words)\n",
    "\n",
    "# Apply the preprocessing function to the 'Review' column\n",
    "df['Processed_Review'] = df['Review'].apply(preprocess_text)\n",
    "\n",
    "# Display the first few rows of the dataset after preprocessing\n",
    "df.head()\n"
   ]
  },
  {
   "cell_type": "markdown",
   "id": "4838b68a",
   "metadata": {},
   "source": [
    "### <font color=\"#0B666A\">3. Exploratory Data Analysis (EDA) <a name=\"exploratory-data-analysis\"></a>"
   ]
  },
  {
   "cell_type": "markdown",
   "id": "c86f254f",
   "metadata": {},
   "source": [
    "Before diving into complex models, let's first understand our data. EDA helps us unmask the underlying patterns, trends, and outliers in the data. Think of it as the \"getting to know you\" phase of a relationship. Let's see the distribution of ratings and the average length of reviews for each rating. This might give us some insights into the nature of the feedback."
   ]
  },
  {
   "cell_type": "code",
   "execution_count": 6,
   "id": "21b31c99",
   "metadata": {
    "code_folding": [
     0
    ]
   },
   "outputs": [
    {
     "data": {
      "image/png": "[encoded data removed]",
      "text/plain": [
       "<Figure size 720x360 with 1 Axes>"
      ]
     },
     "metadata": {},
     "output_type": "display_data"
    },
    {
     "data": {
      "image/png": "[encoded data removed]",
      "text/plain": [
       "<Figure size 720x360 with 1 Axes>"
      ]
     },
     "metadata": {},
     "output_type": "display_data"
    }
   ],
   "source": [
    "# Set the style for seaborn\n",
    "sns.set_style(\"whitegrid\")\n",
    "\n",
    "# Plotting the distribution of ratings\n",
    "plt.figure(figsize=(10, 5))\n",
    "sns.countplot(data=df, x='Rating', palette='viridis')\n",
    "plt.title(\"Distribution of Ratings\")\n",
    "plt.ylabel(\"Number of Reviews\")\n",
    "plt.xlabel(\"Rating\")\n",
    "plt.show()\n",
    "\n",
    "# Plotting the average length of reviews for each rating\n",
    "df['Review_Length'] = df['Processed_Review'].apply(len)\n",
    "plt.figure(figsize=(10, 5))\n",
    "sns.barplot(data=df, x='Rating', y='Review_Length', palette='viridis')\n",
    "plt.title(\"Average Length of Reviews for Each Rating\")\n",
    "plt.ylabel(\"Average Review Length\")\n",
    "plt.xlabel(\"Rating\")\n",
    "plt.show()"
   ]
  },
  {
   "cell_type": "markdown",
   "id": "eee88b98",
   "metadata": {},
   "source": [
    "#### <font color=\"35A29F\">Observations:\n",
    "\n",
    "1. **Distribution of Ratings**: Most people seem to be quite generous with their ratings. The majority of the reviews have a rating of 5, which makes me wonder if these hotels are handing out free chocolates or something. Ratings of 2 and 3 are fewer, suggesting that people either really enjoyed their stay or... well, didn't.\n",
    "2. **Average Length of Reviews**: There's a noticeable trend that the length of the reviews tends to be longer for mid-range ratings. Perhaps when things are neither perfect nor disastrous, people have a lot more to say. \"The bed was comfy, but oh boy, that wall paint was not my aesthetic!\"\n",
    "\n",
    "With this newfound understanding, let's jump into the predictive realm."
   ]
  },
  {
   "cell_type": "markdown",
   "id": "a59a7185",
   "metadata": {},
   "source": [
    "### <font color=\"#0B666A\">4. Predicting review ratings <a name=\"predicting-review-ratings\"></a>"
   ]
  },
  {
   "cell_type": "markdown",
   "id": "d92d5e17",
   "metadata": {},
   "source": [
    "Given the text of a review, can we predict its rating? It's like reading minds but with less telepathy and more algorithms. Let's start with a simple model to set a baseline.\n",
    "\n",
    "We'll split the data into training and testing sets, then use a TF-IDF vectorizer to transform the text into numerical features. Finally, we'll train a Logistic Regression model and evaluate its performance."
   ]
  },
  {
   "cell_type": "code",
   "execution_count": 7,
   "id": "742ae802",
   "metadata": {
    "code_folding": [
     0
    ]
   },
   "outputs": [
    {
     "name": "stdout",
     "output_type": "stream",
     "text": [
      "0.6269821907782386\n",
      "----------------------------------------------------------------\n",
      "              precision    recall  f1-score   support\n",
      "\n",
      "           1       0.78      0.61      0.69       292\n",
      "           2       0.47      0.41      0.44       333\n",
      "           3       0.46      0.24      0.32       432\n",
      "           4       0.54      0.50      0.52      1252\n",
      "           5       0.70      0.85      0.77      1790\n",
      "\n",
      "    accuracy                           0.63      4099\n",
      "   macro avg       0.59      0.52      0.55      4099\n",
      "weighted avg       0.61      0.63      0.61      4099\n",
      "\n"
     ]
    }
   ],
   "source": [
    "# Splitting the data into training and testing sets\n",
    "X = df['Processed_Review']\n",
    "y = df['Rating']\n",
    "\n",
    "# Splitting the data into training and testing sets\n",
    "X_train, X_test, y_train, y_test = train_test_split(X, y, test_size=0.2, random_state=42)\n",
    "\n",
    "# Using TF-IDF to vectorize the text\n",
    "tfidf_vectorizer = TfidfVectorizer(max_features=5000)\n",
    "X_train_tfidf = tfidf_vectorizer.fit_transform(X_train)\n",
    "X_test_tfidf = tfidf_vectorizer.transform(X_test)\n",
    "\n",
    "# Training a Logistic Regression model\n",
    "log_reg_model = LogisticRegression(max_iter=1000)\n",
    "log_reg_model.fit(X_train_tfidf, y_train)\n",
    "\n",
    "# Making predictions\n",
    "y_pred = log_reg_model.predict(X_test_tfidf)\n",
    "\n",
    "# Evaluating the model\n",
    "accuracy = accuracy_score(y_test, y_pred)\n",
    "classification_rep = classification_report(y_test, y_pred)\n",
    "\n",
    "print(accuracy)\n",
    "print(\"----------------------------------------------------------------\")\n",
    "print(classification_rep)\n"
   ]
  },
  {
   "cell_type": "markdown",
   "id": "0ae94ece",
   "metadata": {},
   "source": [
    "Not too shabby for a start, eh? We could do more by exploring other models, tuning hyper-parameters, or even using deep learning. But that would be like putting a cherry on top of a cherry on top of an ice cream sundae. Delicious, but perhaps a bit much for this notebook."
   ]
  },
  {
   "cell_type": "markdown",
   "id": "9f4b395f",
   "metadata": {},
   "source": [
    "#### <font color=\"35A29F\">Improvement approach 1: Feature engineering with word embeddings"
   ]
  },
  {
   "cell_type": "code",
   "execution_count": 6,
   "id": "60f61f3f",
   "metadata": {
    "code_folding": [
     0
    ]
   },
   "outputs": [
    {
     "name": "stdout",
     "output_type": "stream",
     "text": [
      "0.5833130031715053\n",
      "----------------------------------------------------------------\n",
      "              precision    recall  f1-score   support\n",
      "\n",
      "           1       0.64      0.55      0.59       292\n",
      "           2       0.39      0.37      0.38       333\n",
      "           3       0.42      0.15      0.22       432\n",
      "           4       0.49      0.44      0.46      1252\n",
      "           5       0.66      0.83      0.74      1790\n",
      "\n",
      "    accuracy                           0.58      4099\n",
      "   macro avg       0.52      0.47      0.48      4099\n",
      "weighted avg       0.56      0.58      0.56      4099\n",
      "\n"
     ]
    }
   ],
   "source": [
    "# Tokenizing the processed reviews\n",
    "sentences = [review.split() for review in df['Processed_Review']]\n",
    "\n",
    "# Training a Word2Vec model on the tokenized sentences\n",
    "model = Word2Vec(sentences, vector_size=100, window=5, min_count=1, workers=4)\n",
    "model.save(\"word2vec.model\")\n",
    "\n",
    "# Function to get the vector representation of a sentence\n",
    "def get_vector(sentence, model):\n",
    "    vector = sum([model.wv[word] for word in sentence if word in model.wv.index_to_key])\n",
    "    if len(sentence) > 0:\n",
    "        vector = vector / len(sentence)\n",
    "    return vector\n",
    "\n",
    "# Getting vector representations for each review\n",
    "X_vectors = [get_vector(sentence, model) for sentence in sentences]\n",
    "X_vectors = np.array(X_vectors)\n",
    "\n",
    "# Splitting the data into training and testing sets\n",
    "y = df['Rating']\n",
    "X_train, X_test, y_train, y_test = train_test_split(X_vectors, y, test_size=0.2, random_state=42)\n",
    "\n",
    "# Training a Gradient Boosting model on the Word2Vec vectors\n",
    "gb_model = GradientBoostingClassifier()\n",
    "gb_model.fit(X_train, y_train)\n",
    "\n",
    "# Making predictions\n",
    "y_pred = gb_model.predict(X_test)\n",
    "\n",
    "# Evaluating the model\n",
    "accuracy = accuracy_score(y_test, y_pred)\n",
    "classification_rep = classification_report(y_test, y_pred)\n",
    "\n",
    "print(accuracy)\n",
    "print(\"----------------------------------------------------------------\")\n",
    "print(classification_rep)\n"
   ]
  },
  {
   "cell_type": "markdown",
   "id": "5c3174f9",
   "metadata": {},
   "source": [
    "Unfortunately no improvement here really with regards to precision of the model."
   ]
  },
  {
   "cell_type": "markdown",
   "id": "1ce3e72b",
   "metadata": {},
   "source": [
    "#### <font color=\"35A29F\">Improvement approach 2: Model selection and ensembling"
   ]
  },
  {
   "cell_type": "code",
   "execution_count": 7,
   "id": "02a2b8c9",
   "metadata": {
    "code_folding": [
     0
    ]
   },
   "outputs": [
    {
     "name": "stdout",
     "output_type": "stream",
     "text": [
      "0.5723347157843376\n",
      "----------------------------------------------------------------\n",
      "              precision    recall  f1-score   support\n",
      "\n",
      "           1       0.68      0.47      0.55       292\n",
      "           2       0.39      0.19      0.25       333\n",
      "           3       0.42      0.15      0.22       432\n",
      "           4       0.49      0.42      0.46      1252\n",
      "           5       0.62      0.87      0.72      1790\n",
      "\n",
      "    accuracy                           0.57      4099\n",
      "   macro avg       0.52      0.42      0.44      4099\n",
      "weighted avg       0.55      0.57      0.54      4099\n",
      "\n"
     ]
    }
   ],
   "source": [
    "# Text preprocessing function (as provided above)\n",
    "def preprocess_text(text):\n",
    "    # Predefined stopwords list\n",
    "    stopwords_list = set(stopwords.words('english'))\n",
    "    # Convert to lowercase\n",
    "    text = text.lower()\n",
    "    # Remove punctuations and numbers\n",
    "    text = re.sub('[^a-z\\s]', '', text)\n",
    "    # Tokenize the text (splitting it into words)\n",
    "    words = text.split()\n",
    "    # Remove stopwords\n",
    "    words = [word for word in words if word not in stopwords_list]\n",
    "    return ' '.join(words)\n",
    "\n",
    "df['Processed_Review'] = df['Review'].apply(preprocess_text)\n",
    "X = df['Processed_Review']\n",
    "y = df['Rating']\n",
    "\n",
    "df['Review_Length'] = df['Processed_Review'].apply(len)\n",
    "df['Unique_Words_Count'] = df['Processed_Review'].apply(lambda x: len(set(x.split())))\n",
    "df['Avg_Word_Length'] = df['Processed_Review'].apply(lambda x: sum(len(word) for word in x.split()) / len(x.split()) if len(x.split()) > 0 else 0)\n",
    "\n",
    "# Vectorization\n",
    "tfidf_vectorizer = TfidfVectorizer(max_features=5000)\n",
    "X_tfidf = tfidf_vectorizer.fit_transform(X)\n",
    "\n",
    "# New features\n",
    "X_new_features = df[['Review_Length', 'Unique_Words_Count', 'Avg_Word_Length']]\n",
    "scaler = StandardScaler()\n",
    "X_new_features_scaled = scaler.fit_transform(X_new_features)\n",
    "X_combined = hstack([X_tfidf, X_new_features_scaled])\n",
    "\n",
    "# Train-test split\n",
    "X_train, X_test, y_train, y_test = train_test_split(X_combined, y, test_size=0.2, random_state=42)\n",
    "\n",
    "# Gradient Boosting Model\n",
    "gb_model = GradientBoostingClassifier()\n",
    "gb_model.fit(X_train, y_train)\n",
    "\n",
    "# Predictions\n",
    "y_pred = gb_model.predict(X_test)\n",
    "\n",
    "# Evaluation\n",
    "accuracy = accuracy_score(y_test, y_pred)\n",
    "classification_rep = classification_report(y_test, y_pred)\n",
    "\n",
    "print(accuracy)\n",
    "print(\"----------------------------------------------------------------\")\n",
    "print(classification_rep)\n"
   ]
  },
  {
   "cell_type": "markdown",
   "id": "17940a38",
   "metadata": {},
   "source": [
    "Again, no real improvement here in term of accuracy of the model. The \"original\" model performed the best. Let's move on from there."
   ]
  },
  {
   "cell_type": "markdown",
   "id": "b5623f93",
   "metadata": {},
   "source": [
    "### <font color=\"#0B666A\">5. Sentiment analysis <a name=\"sentiment-analysis\"></a>"
   ]
  },
  {
   "cell_type": "markdown",
   "id": "8ec41372",
   "metadata": {},
   "source": [
    "The art of determining sentiment.\n",
    "\n",
    "The aim here is to classify the sentiment of the reviews: positive, neutral, or negative. Since we have ratings from 1 to 5, we can use them as a proxy for sentiment:\n",
    "\n",
    "* Positive: Rating of 4 or 5\n",
    "* Neutral: Rating of 3\n",
    "* Negative: Rating of 1 or 2"
   ]
  },
  {
   "cell_type": "markdown",
   "id": "59f561d2",
   "metadata": {},
   "source": [
    "**1. Preparing the Data**\n",
    "\n",
    "First, let's convert the ratings into these sentiment classes."
   ]
  },
  {
   "cell_type": "code",
   "execution_count": 8,
   "id": "039b9acf",
   "metadata": {
    "code_folding": [
     0
    ]
   },
   "outputs": [
    {
     "data": {
      "text/plain": [
       "positive    15093\n",
       "negative     3214\n",
       "neutral      2184\n",
       "Name: Sentiment, dtype: int64"
      ]
     },
     "execution_count": 8,
     "metadata": {},
     "output_type": "execute_result"
    }
   ],
   "source": [
    "# Convert ratings to sentiment classes\n",
    "def rating_to_sentiment(rating):\n",
    "    if rating in [4, 5]:\n",
    "        return \"positive\"\n",
    "    elif rating == 3:\n",
    "        return \"neutral\"\n",
    "    else:\n",
    "        return \"negative\"\n",
    "\n",
    "df['Sentiment'] = df['Rating'].apply(rating_to_sentiment)\n",
    "\n",
    "# Display the distribution of sentiments\n",
    "sentiment_distribution = df['Sentiment'].value_counts()\n",
    "sentiment_distribution"
   ]
  },
  {
   "cell_type": "markdown",
   "id": "41fa6175",
   "metadata": {},
   "source": [
    "Here's the distribution of sentiments based on the reviews:\n",
    "\n",
    "* Positive: 15,093 reviews\n",
    "* Negative: 3,214 reviews\n",
    "* Neutral: 2,184 reviews\n",
    "\n",
    "It seems our travelers are quite the optimistic bunch!"
   ]
  },
  {
   "cell_type": "markdown",
   "id": "6621a98b",
   "metadata": {},
   "source": [
    "**2. Building the Sentiment Analysis Model**"
   ]
  },
  {
   "cell_type": "markdown",
   "id": "743843aa",
   "metadata": {},
   "source": [
    "We'll stick to our trusty TF-IDF vectorizer to transform our text into numerical features. For the model, let's use a Logistic Regression classifier. It's like the Swiss Army knife of the data science world—simple, versatile, and efficient. Let's train and evaluate it!"
   ]
  },
  {
   "cell_type": "code",
   "execution_count": 9,
   "id": "33a886e1",
   "metadata": {
    "code_folding": [
     0
    ]
   },
   "outputs": [
    {
     "name": "stdout",
     "output_type": "stream",
     "text": [
      "0.8585020736765064\n",
      "----------------------------------------------------------------\n",
      "              precision    recall  f1-score   support\n",
      "\n",
      "    negative       0.80      0.75      0.77       625\n",
      "     neutral       0.50      0.20      0.28       432\n",
      "    positive       0.89      0.98      0.93      3042\n",
      "\n",
      "    accuracy                           0.86      4099\n",
      "   macro avg       0.73      0.64      0.66      4099\n",
      "weighted avg       0.83      0.86      0.84      4099\n",
      "\n"
     ]
    }
   ],
   "source": [
    "# Splitting the data for sentiment analysis\n",
    "X_sentiment = df['Processed_Review']\n",
    "y_sentiment = df['Sentiment']\n",
    "X_train_sent, X_test_sent, y_train_sent, y_test_sent = train_test_split(\n",
    "    X_sentiment, y_sentiment, test_size=0.2, random_state=42)\n",
    "\n",
    "# Using TF-IDF to vectorize the text\n",
    "tfidf_vectorizer_sentiment = TfidfVectorizer(max_features=5000)\n",
    "X_train_tfidf_sent = tfidf_vectorizer_sentiment.fit_transform(X_train_sent)\n",
    "X_test_tfidf_sent = tfidf_vectorizer_sentiment.transform(X_test_sent)\n",
    "\n",
    "# Training a Logistic Regression model for sentiment analysis\n",
    "log_reg_model_sentiment = LogisticRegression(max_iter=1000)\n",
    "log_reg_model_sentiment.fit(X_train_tfidf_sent, y_train_sent)\n",
    "\n",
    "# Making predictions\n",
    "y_pred_sent = log_reg_model_sentiment.predict(X_test_tfidf_sent)\n",
    "\n",
    "# Evaluating the model\n",
    "accuracy_sent = accuracy_score(y_test_sent, y_pred_sent)\n",
    "classification_rep_sent = classification_report(y_test_sent, y_pred_sent)\n",
    "\n",
    "print(accuracy_sent)\n",
    "print(\"----------------------------------------------------------------\")\n",
    "print(classification_rep_sent)"
   ]
  },
  {
   "cell_type": "markdown",
   "id": "b5140512",
   "metadata": {},
   "source": [
    "Sentiment Analysis Results:\n",
    "\n",
    "* Accuracy: Approximately **85.80%**"
   ]
  },
  {
   "cell_type": "markdown",
   "id": "22f7de6b",
   "metadata": {},
   "source": [
    "We've got a pretty decent accuracy! The model is particularly strong at identifying positive reviews, as expected from our data distribution. Neutral reviews are a bit trickier since they tend to have elements from both positive and negative sentiments."
   ]
  },
  {
   "cell_type": "markdown",
   "id": "c64806ee",
   "metadata": {},
   "source": [
    "### <font color=\"#0B666A\">6. Predictions using the sentiment model <a name=\"predictions-using-the-sentiment-model\"></a>"
   ]
  },
  {
   "cell_type": "markdown",
   "id": "925a4f29",
   "metadata": {},
   "source": [
    "Let's use our trained model to predict sentiments of some sample reviews.\n",
    "\n",
    "Alright, let's imagine a couple of reviews for demonstration:\n",
    "\n",
    "1. \"The hotel was absolutely breathtaking. The view from my room was stunning, and the staff went above and beyond to ensure a comfortable stay. The food was a culinary delight!\"\n",
    "\n",
    "2. \"I've had better experiences camping in the woods. The room was a mess, and the noise from the hallway kept me up all night. The only redeeming quality was the decent breakfast.\"\n",
    "\n",
    "Let's feed these reviews to our model and predict their sentiments!"
   ]
  },
  {
   "cell_type": "code",
   "execution_count": 11,
   "id": "bf49e74d",
   "metadata": {
    "code_folding": [
     0
    ]
   },
   "outputs": [
    {
     "data": {
      "text/plain": [
       "array(['positive', 'negative', 'positive', 'positive', 'negative',\n",
       "       'positive', 'negative'], dtype=object)"
      ]
     },
     "execution_count": 11,
     "metadata": {},
     "output_type": "execute_result"
    }
   ],
   "source": [
    "# Sample reviews for demonstration\n",
    "sample_reviews = [\n",
    "    \"The hotel was absolutely breathtaking. The view from my room was stunning, and the staff went above and beyond to ensure a comfortable stay. The food was a culinary delight!\",\n",
    "    \"I've had better experiences camping in the woods. The room was a mess, and the noise from the hallway kept me up all night. The only redeeming quality was the decent breakfast.\",\n",
    "    \"The hotel was nestled amidst a fairy-tale setting, making every morning feel like a dream come true.\",\n",
    "    \"It felt like I was on a different planet! The futuristic design of the rooms was otherworldly.\",\n",
    "    \"Despite the grand entrance, the rooms felt more like shoeboxes. Not what I expected for the price.\",\n",
    "    \"The staff treated us like royalty. The chef even prepared a special dish just for us!\",\n",
    "    \"The constant construction noise was unbearable. It felt like the jackhammers were right inside my room.\"\n",
    "]\n",
    "\n",
    "# Preprocess the sample reviews\n",
    "processed_sample_reviews = [preprocess_text(\n",
    "    review) for review in sample_reviews]\n",
    "\n",
    "# Transform the reviews using the TF-IDF vectorizer\n",
    "sample_reviews_tfidf = tfidf_vectorizer_sentiment.transform(\n",
    "    processed_sample_reviews)\n",
    "\n",
    "# Predict the sentiment using the trained model\n",
    "predicted_sentiments = log_reg_model_sentiment.predict(sample_reviews_tfidf)\n",
    "\n",
    "predicted_sentiments\n"
   ]
  },
  {
   "cell_type": "markdown",
   "id": "d9c079fe",
   "metadata": {},
   "source": [
    "Voilà! Here are the predicted sentiments for our conjured reviews:\n",
    "\n",
    "1. \"The hotel was absolutely breathtaking. The view from my room was stunning, and the staff went above and beyond to ensure a comfortable stay. The food was a culinary delight!\"\n",
    "         **Predicted Sentiment**: Positive 🌟\n",
    "2. \"I've had better experiences camping in the woods. The room was a mess, and the noise from the hallway kept me up all night. The only redeeming quality was the decent breakfast.\"\n",
    "         **Predicted Sentiment**: Negative 😟\n",
    "3. \"The hotel was nestled amidst a fairy-tale setting, making every morning feel like a dream come true.\"\n",
    "         **Predicted Sentiment**: Positive 🌟\n",
    "4. \"It felt like I was on a different planet! The futuristic design of the rooms was otherworldly.\"\n",
    "         **Predicted Sentiment**: Positive 🌟\n",
    "5. \"Despite the grand entrance, the rooms felt more like shoe-boxes. Not what I expected for the price.\"\n",
    "         **Predicted Sentiment**: Negative 😟\n",
    "6. \"The staff treated us like royalty. The chef even prepared a special dish just for us!\"\n",
    "         **Predicted Sentiment**: Positive 🌟\n",
    "7. \"The constant construction noise was unbearable. It felt like the jackhammers were right inside my room.\"\n",
    "         **Predicted Sentiment**: Negative 😟\n",
    "\n",
    "Looks like our model is in tune with the vibes of these reviews! Whether you're singing praises or airing grievances, our trusty sentiment model is here to label those feels."
   ]
  },
  {
   "cell_type": "markdown",
   "id": "60769c12",
   "metadata": {},
   "source": [
    "### <font color=\"#0B666A\">7. Conclusion <a name=\"conclusion\"></a>"
   ]
  },
  {
   "cell_type": "markdown",
   "id": "3c5c506f",
   "metadata": {},
   "source": [
    "Through this delightful journey, we've explored the key aspects that make hotels good or bad, predicted review ratings, and even modeled the sentiments within the reviews. We laughed, we learned, and most importantly, we discovered the fascinating world within TripAdvisor hotel reviews."
   ]
  },
  {
   "cell_type": "markdown",
   "id": "8a64eacb",
   "metadata": {},
   "source": [
    "Sentiment analysis can be a powerful tool, especially for businesses looking to gauge customer sentiment and improve their services. In our case, we've successfully trained a model that can categorize hotel reviews into positive, neutral, or negative sentiments with decent accuracy."
   ]
  },
  {
   "cell_type": "markdown",
   "id": "698a2d68",
   "metadata": {},
   "source": [
    "> WP, 2023"
   ]
  }
 ],
 "metadata": {
  "kernelspec": {
   "display_name": "Python 3 (ipykernel)",
   "language": "python",
   "name": "python3"
  },
  "language_info": {
   "codemirror_mode": {
    "name": "ipython",
    "version": 3
   },
   "file_extension": ".py",
   "mimetype": "text/x-python",
   "name": "python",
   "nbconvert_exporter": "python",
   "pygments_lexer": "ipython3",
   "version": "3.9.12"
  },
  "toc": {
   "base_numbering": 1,
   "nav_menu": {},
   "number_sections": false,
   "sideBar": true,
   "skip_h1_title": false,
   "title_cell": "Table of Contents",
   "title_sidebar": "Contents",
   "toc_cell": false,
   "toc_position": {},
   "toc_section_display": true,
   "toc_window_display": false
  },
  "varInspector": {
   "cols": {
    "lenName": 16,
    "lenType": 16,
    "lenVar": 40
   },
   "kernels_config": {
    "python": {
     "delete_cmd_postfix": "",
     "delete_cmd_prefix": "del ",
     "library": "var_list.py",
     "varRefreshCmd": "print(var_dic_list())"
    },
    "r": {
     "delete_cmd_postfix": ") ",
     "delete_cmd_prefix": "rm(",
     "library": "var_list.r",
     "varRefreshCmd": "cat(var_dic_list()) "
    }
   },
   "types_to_exclude": [
    "module",
    "function",
    "builtin_function_or_method",
    "instance",
    "_Feature"
   ],
   "window_display": false
  }
 },
 "nbformat": 4,
 "nbformat_minor": 5
}
