{
 "cells": [
  {
   "cell_type": "markdown",
   "id": "6de4e909",
   "metadata": {},
   "source": [
    "# 🌟 TripAdvisor Hotel Reviews: A Deep Dive 🌟"
   ]
  },
  {
   "cell_type": "markdown",
   "id": "da79300f",
   "metadata": {},
   "source": [
    "#### Sentiment Analysis - Analyzing reviews is like reading a book where each review is a page, and together they tell a story. Let's uncover the story these hotel reviews are trying to tell!"
   ]
  },
  {
   "cell_type": "markdown",
   "id": "574832c5",
   "metadata": {},
   "source": [
    "## Table of Contents:\n",
    "\n",
    "1. [Introduction & Data Peek](#introduction-and-data-peek)\n",
    "2. [Data Cleaning & Preprocessing](#data-cleaning-and-preprocessing)\n",
    "3. [Exploratory Data Analysis (EDA)](#exploratory-data-analysis)\n",
    "4. [Predicting Review Ratings](#predicting-review-ratings)\n",
    "5. [Sentiment Analysis](#sentiment-analysis)\n",
    "6. [Predictions Using the Sentiment Model](#predictions-using-the-sentiment-model)\n",
    "7. [Conclusion](#conclusion)"
   ]
  },
  {
   "cell_type": "markdown",
   "id": "27a86f32",
   "metadata": {},
   "source": [
    "### 1. Introduction & Data Peek <a name=\"introduction-and-data-peek\"></a>"
   ]
  },
  {
   "cell_type": "markdown",
   "id": "51aef2f1",
   "metadata": {},
   "source": [
    "Hello there! If you've stumbled upon this Jupyter Notebook, then either you are lost in the vast world of data science or you have an insatiable thirst for knowledge. Either way, you're in for a treat. Today, we'll be analyzing TripAdvisor hotel reviews because who doesn't like to know what makes a hotel stay feel like heaven or, occasionally, the other place...\n",
    "\n",
    "Before we jump into the deep end, let's take a quick peek at our data to get a sense of what we're working with."
   ]
  },
  {
   "cell_type": "markdown",
   "id": "a006d79a",
   "metadata": {},
   "source": [
    "`Source of the dataset: https://www.kaggle.com/datasets/andrewmvd/trip-advisor-hotel-reviews/code?datasetId=897156&sortBy=voteCount `"
   ]
  },
  {
   "cell_type": "code",
   "execution_count": 1,
   "id": "b0e1951c",
   "metadata": {},
   "outputs": [],
   "source": [
    "# Importing the relevant packages\n",
    "import pandas as pd\n",
    "import matplotlib.pyplot as plt\n",
    "import seaborn as sns\n",
    "\n",
    "# Basic text preprocessing\n",
    "import re\n",
    "from nltk.corpus import stopwords\n",
    "from nltk.tokenize import word_tokenize\n",
    "\n",
    "# Modeling\n",
    "from sklearn.model_selection import train_test_split\n",
    "from sklearn.feature_extraction.text import TfidfVectorizer\n",
    "from sklearn.linear_model import LogisticRegression\n",
    "from sklearn.metrics import classification_report, accuracy_score"
   ]
  },
  {
   "cell_type": "markdown",
   "id": "6be9c81e",
   "metadata": {},
   "source": [
    "Let's peek at the data, shall we? Before we jump into the deep end, let's take a quick peek at our data to get a sense of what we're working with."
   ]
  },
  {
   "cell_type": "code",
   "execution_count": 2,
   "id": "89c1cf98",
   "metadata": {},
   "outputs": [
    {
     "data": {
      "text/html": [
       "<div>\n",
       "<style scoped>\n",
       "    .dataframe tbody tr th:only-of-type {\n",
       "        vertical-align: middle;\n",
       "    }\n",
       "\n",
       "    .dataframe tbody tr th {\n",
       "        vertical-align: top;\n",
       "    }\n",
       "\n",
       "    .dataframe thead th {\n",
       "        text-align: right;\n",
       "    }\n",
       "</style>\n",
       "<table border=\"1\" class=\"dataframe\">\n",
       "  <thead>\n",
       "    <tr style=\"text-align: right;\">\n",
       "      <th></th>\n",
       "      <th>Review</th>\n",
       "      <th>Rating</th>\n",
       "    </tr>\n",
       "  </thead>\n",
       "  <tbody>\n",
       "    <tr>\n",
       "      <th>0</th>\n",
       "      <td>nice hotel expensive parking got good deal sta...</td>\n",
       "      <td>4</td>\n",
       "    </tr>\n",
       "    <tr>\n",
       "      <th>1</th>\n",
       "      <td>ok nothing special charge diamond member hilto...</td>\n",
       "      <td>2</td>\n",
       "    </tr>\n",
       "    <tr>\n",
       "      <th>2</th>\n",
       "      <td>nice rooms not 4* experience hotel monaco seat...</td>\n",
       "      <td>3</td>\n",
       "    </tr>\n",
       "    <tr>\n",
       "      <th>3</th>\n",
       "      <td>unique, great stay, wonderful time hotel monac...</td>\n",
       "      <td>5</td>\n",
       "    </tr>\n",
       "    <tr>\n",
       "      <th>4</th>\n",
       "      <td>great stay great stay, went seahawk game aweso...</td>\n",
       "      <td>5</td>\n",
       "    </tr>\n",
       "  </tbody>\n",
       "</table>\n",
       "</div>"
      ],
      "text/plain": [
       "                                              Review  Rating\n",
       "0  nice hotel expensive parking got good deal sta...       4\n",
       "1  ok nothing special charge diamond member hilto...       2\n",
       "2  nice rooms not 4* experience hotel monaco seat...       3\n",
       "3  unique, great stay, wonderful time hotel monac...       5\n",
       "4  great stay great stay, went seahawk game aweso...       5"
      ]
     },
     "execution_count": 2,
     "metadata": {},
     "output_type": "execute_result"
    }
   ],
   "source": [
    "# Load the dataset\n",
    "df = pd.read_csv(r\"src/tripadvisor_hotel_reviews.csv\")\n",
    "df.head()"
   ]
  },
  {
   "cell_type": "markdown",
   "id": "19c68caf",
   "metadata": {},
   "source": [
    "Ah, simplicity! Each row represents a review with its respective rating. The 'Review' column contains the text of the review, while the 'Rating' column contains a score from 1 to 5. A score of 1 probably means \"I'd rather sleep in a haunted house\", while a score of 5 translates to \"I felt like royalty!\"."
   ]
  },
  {
   "cell_type": "markdown",
   "id": "abfca3c3",
   "metadata": {},
   "source": [
    "### 2. Data Cleaning & Preprocessing <a name=\"data-cleaning-and-preprocessing\"></a>"
   ]
  },
  {
   "cell_type": "markdown",
   "id": "9b9cdd94",
   "metadata": {},
   "source": [
    "Before we indulge in the juicy bits of analysis, we need to ensure our data is as pristine as a newly laundered shirt. This involves handling missing values, normalizing the text, and tokenizing the reviews. Let's embark on this cleaning spree!"
   ]
  },
  {
   "cell_type": "code",
   "execution_count": 5,
   "id": "b181a061",
   "metadata": {},
   "outputs": [
    {
     "data": {
      "text/html": [
       "<div>\n",
       "<style scoped>\n",
       "    .dataframe tbody tr th:only-of-type {\n",
       "        vertical-align: middle;\n",
       "    }\n",
       "\n",
       "    .dataframe tbody tr th {\n",
       "        vertical-align: top;\n",
       "    }\n",
       "\n",
       "    .dataframe thead th {\n",
       "        text-align: right;\n",
       "    }\n",
       "</style>\n",
       "<table border=\"1\" class=\"dataframe\">\n",
       "  <thead>\n",
       "    <tr style=\"text-align: right;\">\n",
       "      <th></th>\n",
       "      <th>Review</th>\n",
       "      <th>Rating</th>\n",
       "      <th>Processed_Review</th>\n",
       "    </tr>\n",
       "  </thead>\n",
       "  <tbody>\n",
       "    <tr>\n",
       "      <th>0</th>\n",
       "      <td>nice hotel expensive parking got good deal sta...</td>\n",
       "      <td>4</td>\n",
       "      <td>nice hotel expensive parking got good deal sta...</td>\n",
       "    </tr>\n",
       "    <tr>\n",
       "      <th>1</th>\n",
       "      <td>ok nothing special charge diamond member hilto...</td>\n",
       "      <td>2</td>\n",
       "      <td>ok nothing special charge diamond member hilto...</td>\n",
       "    </tr>\n",
       "    <tr>\n",
       "      <th>2</th>\n",
       "      <td>nice rooms not 4* experience hotel monaco seat...</td>\n",
       "      <td>3</td>\n",
       "      <td>nice rooms experience hotel monaco seattle goo...</td>\n",
       "    </tr>\n",
       "    <tr>\n",
       "      <th>3</th>\n",
       "      <td>unique, great stay, wonderful time hotel monac...</td>\n",
       "      <td>5</td>\n",
       "      <td>unique great stay wonderful time hotel monaco ...</td>\n",
       "    </tr>\n",
       "    <tr>\n",
       "      <th>4</th>\n",
       "      <td>great stay great stay, went seahawk game aweso...</td>\n",
       "      <td>5</td>\n",
       "      <td>great stay great stay went seahawk game awesom...</td>\n",
       "    </tr>\n",
       "  </tbody>\n",
       "</table>\n",
       "</div>"
      ],
      "text/plain": [
       "                                              Review  Rating  \\\n",
       "0  nice hotel expensive parking got good deal sta...       4   \n",
       "1  ok nothing special charge diamond member hilto...       2   \n",
       "2  nice rooms not 4* experience hotel monaco seat...       3   \n",
       "3  unique, great stay, wonderful time hotel monac...       5   \n",
       "4  great stay great stay, went seahawk game aweso...       5   \n",
       "\n",
       "                                    Processed_Review  \n",
       "0  nice hotel expensive parking got good deal sta...  \n",
       "1  ok nothing special charge diamond member hilto...  \n",
       "2  nice rooms experience hotel monaco seattle goo...  \n",
       "3  unique great stay wonderful time hotel monaco ...  \n",
       "4  great stay great stay went seahawk game awesom...  "
      ]
     },
     "execution_count": 5,
     "metadata": {},
     "output_type": "execute_result"
    }
   ],
   "source": [
    "# Predefined list of common stopwords\n",
    "stopwords_list = [\n",
    "    'i', 'me', 'my', 'myself', 'we', 'our', 'ours', 'ourselves', 'you', \"you're\", \"you've\", \"you'll\", \n",
    "    \"you'd\", 'your', 'yours', 'yourself', 'yourselves', 'he', 'him', 'his', 'himself', 'she', \"she's\", \n",
    "    'her', 'hers', 'herself', 'it', \"it's\", 'its', 'itself', 'they', 'them', 'their', 'theirs', 'themselves', \n",
    "    'what', 'which', 'who', 'whom', 'this', 'that', \"that'll\", 'these', 'those', 'am', 'is', 'are', 'was', \n",
    "    'were', 'be', 'been', 'being', 'have', 'has', 'had', 'having', 'do', 'does', 'did', 'doing', 'a', 'an', \n",
    "    'the', 'and', 'but', 'if', 'or', 'because', 'as', 'until', 'while', 'of', 'at', 'by', 'for', 'with', \n",
    "    'about', 'against', 'between', 'into', 'through', 'during', 'before', 'after', 'above', 'below', 'to', \n",
    "    'from', 'up', 'down', 'in', 'out', 'on', 'off', 'over', 'under', 'again', 'further', 'then', 'once', \n",
    "    'here', 'there', 'when', 'where', 'why', 'how', 'all', 'any', 'both', 'each', 'few', 'more', 'most', \n",
    "    'other', 'some', 'such', 'no', 'nor', 'not', 'only', 'own', 'same', 'so', 'than', 'too', 'very', 's', \n",
    "    't', 'can', 'will', 'just', 'don', \"don't\", 'should', \"should've\", 'now', 'd', 'll', 'm', 'o', 're', \n",
    "    've', 'y', 'ain', 'aren', \"aren't\", 'couldn', \"couldn't\", 'didn', \"didn't\", 'doesn', \"doesn't\", 'hadn', \n",
    "    \"hadn't\", 'hasn', \"hasn't\", 'haven', \"haven't\", 'isn', \"isn't\", 'ma', 'mightn', \"mightn't\", 'mustn', \n",
    "    \"mustn't\", 'needn', \"needn't\", 'shan', \"shan't\", 'shouldn', \"shouldn't\", 'wasn', \"wasn't\", 'weren', \n",
    "    \"weren't\", 'won', \"won't\", 'wouldn', \"wouldn't\"\n",
    "]\n",
    "\n",
    "def simpler_preprocess(text):\n",
    "    # Convert to lowercase\n",
    "    text = text.lower()\n",
    "    # Remove punctuations and numbers\n",
    "    text = re.sub('[^a-z\\s]', '', text)\n",
    "    # Split the text into words\n",
    "    words = text.split()\n",
    "    # Remove stopwords\n",
    "    words = [word for word in words if word not in stopwords_list]\n",
    "    return ' '.join(words)\n",
    "\n",
    "# Apply the simpler preprocessing function to the 'Review' column\n",
    "df['Processed_Review'] = df['Review'].apply(simpler_preprocess)\n",
    "\n",
    "df.head()"
   ]
  },
  {
   "cell_type": "markdown",
   "id": "4838b68a",
   "metadata": {},
   "source": [
    "### 3. Exploratory Data Analysis (EDA) <a name=\"exploratory-data-analysis\"></a>"
   ]
  },
  {
   "cell_type": "markdown",
   "id": "c86f254f",
   "metadata": {},
   "source": [
    "Before diving into complex models, let's first understand our data. EDA helps us unmask the underlying patterns, trends, and outliers in the data. Think of it as the \"getting to know you\" phase of a relationship. Let's see the distribution of ratings and the average length of reviews for each rating. This might give us some insights into the nature of the feedback."
   ]
  },
  {
   "cell_type": "code",
   "execution_count": 6,
   "id": "21b31c99",
   "metadata": {},
   "outputs": [
    {
     "data": {
      "image/png": "[encoded data removed]",
      "text/plain": [
       "<Figure size 720x360 with 1 Axes>"
      ]
     },
     "metadata": {},
     "output_type": "display_data"
    },
    {
     "data": {
      "image/png": "[encoded data removed]",
      "text/plain": [
       "<Figure size 720x360 with 1 Axes>"
      ]
     },
     "metadata": {},
     "output_type": "display_data"
    }
   ],
   "source": [
    "# Set the style for seaborn\n",
    "sns.set_style(\"whitegrid\")\n",
    "\n",
    "# Plotting the distribution of ratings\n",
    "plt.figure(figsize=(10, 5))\n",
    "sns.countplot(data=df, x='Rating', palette='viridis')\n",
    "plt.title(\"Distribution of Ratings\")\n",
    "plt.ylabel(\"Number of Reviews\")\n",
    "plt.xlabel(\"Rating\")\n",
    "plt.show()\n",
    "\n",
    "# Plotting the average length of reviews for each rating\n",
    "df['Review_Length'] = df['Processed_Review'].apply(len)\n",
    "plt.figure(figsize=(10, 5))\n",
    "sns.barplot(data=df, x='Rating', y='Review_Length', palette='viridis')\n",
    "plt.title(\"Average Length of Reviews for Each Rating\")\n",
    "plt.ylabel(\"Average Review Length\")\n",
    "plt.xlabel(\"Rating\")\n",
    "plt.show()"
   ]
  },
  {
   "cell_type": "markdown",
   "id": "eee88b98",
   "metadata": {},
   "source": [
    "#### Observations:\n",
    "\n",
    "1. **Distribution of Ratings**: Most people seem to be quite generous with their ratings. The majority of the reviews have a rating of 5, which makes me wonder if these hotels are handing out free chocolates or something. Ratings of 2 and 3 are fewer, suggesting that people either really enjoyed their stay or... well, didn't.\n",
    "2. **Average Length of Reviews**: There's a noticeable trend that the length of the reviews tends to be longer for mid-range ratings. Perhaps when things are neither perfect nor disastrous, people have a lot more to say. \"The bed was comfy, but oh boy, that wall paint was not my aesthetic!\"\n",
    "\n",
    "With this newfound understanding, let's jump into the predictive realm."
   ]
  },
  {
   "cell_type": "markdown",
   "id": "a59a7185",
   "metadata": {},
   "source": [
    "### 4. Predicting Review Ratings <a name=\"predicting-review-ratings\"></a>"
   ]
  },
  {
   "cell_type": "markdown",
   "id": "d92d5e17",
   "metadata": {},
   "source": [
    "Given the text of a review, can we predict its rating? It's like reading minds but with less telepathy and more algorithms. Let's start with a simple model to set a baseline.\n",
    "\n",
    "We'll split the data into training and testing sets, then use a TF-IDF vectorizer to transform the text into numerical features. Finally, we'll train a Logistic Regression model and evaluate its performance."
   ]
  },
  {
   "cell_type": "code",
   "execution_count": 8,
   "id": "742ae802",
   "metadata": {},
   "outputs": [
    {
     "data": {
      "text/plain": [
       "(0.6262503049524274,\n",
       " '              precision    recall  f1-score   support\\n\\n           1       0.78      0.62      0.69       292\\n           2       0.47      0.42      0.44       333\\n           3       0.46      0.24      0.32       432\\n           4       0.54      0.50      0.52      1252\\n           5       0.70      0.85      0.77      1790\\n\\n    accuracy                           0.63      4099\\n   macro avg       0.59      0.52      0.55      4099\\nweighted avg       0.61      0.63      0.61      4099\\n')"
      ]
     },
     "execution_count": 8,
     "metadata": {},
     "output_type": "execute_result"
    }
   ],
   "source": [
    "# Splitting the data into training and testing sets\n",
    "X = df['Processed_Review']\n",
    "y = df['Rating']\n",
    "\n",
    "# Splitting the data into training and testing sets\n",
    "X_train, X_test, y_train, y_test = train_test_split(X, y, test_size=0.2, random_state=42)\n",
    "\n",
    "# Using TF-IDF to vectorize the text\n",
    "tfidf_vectorizer = TfidfVectorizer(max_features=5000)\n",
    "X_train_tfidf = tfidf_vectorizer.fit_transform(X_train)\n",
    "X_test_tfidf = tfidf_vectorizer.transform(X_test)\n",
    "\n",
    "# Training a Logistic Regression model\n",
    "log_reg_model = LogisticRegression(max_iter=1000)\n",
    "log_reg_model.fit(X_train_tfidf, y_train)\n",
    "\n",
    "# Making predictions\n",
    "y_pred = log_reg_model.predict(X_test_tfidf)\n",
    "\n",
    "# Evaluating the model\n",
    "accuracy = accuracy_score(y_test, y_pred)\n",
    "classification_rep = classification_report(y_test, y_pred)\n",
    "\n",
    "accuracy, classification_rep"
   ]
  },
  {
   "cell_type": "markdown",
   "id": "6b9db34d",
   "metadata": {},
   "source": [
    "              precision    recall  f1-score   support\n",
    "\n",
    "    Negative       0.80      0.75      0.77       625\n",
    "    Neutral        0.50      0.19      0.28       432\n",
    "    Positive       0.89      0.98      0.93      3042\n",
    "\n",
    "    Accuracy                           0.86      4099\n",
    "    Macro avg      0.73      0.64      0.66      4099\n",
    "    Weighted avg   0.83      0.86      0.84      4099"
   ]
  },
  {
   "cell_type": "markdown",
   "id": "0ae94ece",
   "metadata": {},
   "source": [
    "Not too shabby for a start, eh? We could do more by exploring other models, tuning hyperparameters, or even using deep learning. But that would be like putting a cherry on top of a cherry on top of an ice cream sundae. Delicious, but perhaps a bit much for this notebook."
   ]
  },
  {
   "cell_type": "markdown",
   "id": "b5623f93",
   "metadata": {},
   "source": [
    "### 5. Sentiment Analysis <a name=\"sentiment-analysis\"></a>"
   ]
  },
  {
   "cell_type": "markdown",
   "id": "8ec41372",
   "metadata": {},
   "source": [
    "The art of determining sentiment.\n",
    "\n",
    "The aim here is to classify the sentiment of the reviews: positive, neutral, or negative. Since we have ratings from 1 to 5, we can use them as a proxy for sentiment:\n",
    "\n",
    "* Positive: Rating of 4 or 5\n",
    "* Neutral: Rating of 3\n",
    "* Negative: Rating of 1 or 2"
   ]
  },
  {
   "cell_type": "markdown",
   "id": "59f561d2",
   "metadata": {},
   "source": [
    "**1. Preparing the Data**\n",
    "\n",
    "First, let's convert the ratings into these sentiment classes."
   ]
  },
  {
   "cell_type": "code",
   "execution_count": 9,
   "id": "039b9acf",
   "metadata": {},
   "outputs": [
    {
     "data": {
      "text/plain": [
       "positive    15093\n",
       "negative     3214\n",
       "neutral      2184\n",
       "Name: Sentiment, dtype: int64"
      ]
     },
     "execution_count": 9,
     "metadata": {},
     "output_type": "execute_result"
    }
   ],
   "source": [
    "# Convert ratings to sentiment classes\n",
    "def rating_to_sentiment(rating):\n",
    "    if rating in [4, 5]:\n",
    "        return \"positive\"\n",
    "    elif rating == 3:\n",
    "        return \"neutral\"\n",
    "    else:\n",
    "        return \"negative\"\n",
    "\n",
    "df['Sentiment'] = df['Rating'].apply(rating_to_sentiment)\n",
    "\n",
    "# Display the distribution of sentiments\n",
    "sentiment_distribution = df['Sentiment'].value_counts()\n",
    "sentiment_distribution"
   ]
  },
  {
   "cell_type": "markdown",
   "id": "41fa6175",
   "metadata": {},
   "source": [
    "Here's the distribution of sentiments based on the reviews:\n",
    "\n",
    "* Positive: 15,093 reviews\n",
    "* Negative: 3,214 reviews\n",
    "* Neutral: 2,184 reviews\n",
    "\n",
    "It seems our travelers are quite the optimistic bunch!"
   ]
  },
  {
   "cell_type": "markdown",
   "id": "6621a98b",
   "metadata": {},
   "source": [
    "**2. Building the Sentiment Analysis Model**"
   ]
  },
  {
   "cell_type": "markdown",
   "id": "743843aa",
   "metadata": {},
   "source": [
    "We'll stick to our trusty TF-IDF vectorizer to transform our text into numerical features. For the model, let's use a Logistic Regression classifier. It's like the Swiss Army knife of the data science world—simple, versatile, and efficient. Let's train and evaluate it!"
   ]
  },
  {
   "cell_type": "code",
   "execution_count": 10,
   "id": "33a886e1",
   "metadata": {},
   "outputs": [
    {
     "data": {
      "text/plain": [
       "(0.8580141497926324,\n",
       " '              precision    recall  f1-score   support\\n\\n    negative       0.80      0.75      0.77       625\\n     neutral       0.50      0.19      0.28       432\\n    positive       0.89      0.98      0.93      3042\\n\\n    accuracy                           0.86      4099\\n   macro avg       0.73      0.64      0.66      4099\\nweighted avg       0.83      0.86      0.84      4099\\n')"
      ]
     },
     "execution_count": 10,
     "metadata": {},
     "output_type": "execute_result"
    }
   ],
   "source": [
    "# Splitting the data for sentiment analysis\n",
    "X_sentiment = df['Processed_Review']\n",
    "y_sentiment = df['Sentiment']\n",
    "X_train_sent, X_test_sent, y_train_sent, y_test_sent = train_test_split(\n",
    "    X_sentiment, y_sentiment, test_size=0.2, random_state=42)\n",
    "\n",
    "# Using TF-IDF to vectorize the text\n",
    "tfidf_vectorizer_sentiment = TfidfVectorizer(max_features=5000)\n",
    "X_train_tfidf_sent = tfidf_vectorizer_sentiment.fit_transform(X_train_sent)\n",
    "X_test_tfidf_sent = tfidf_vectorizer_sentiment.transform(X_test_sent)\n",
    "\n",
    "# Training a Logistic Regression model for sentiment analysis\n",
    "log_reg_model_sentiment = LogisticRegression(max_iter=1000)\n",
    "log_reg_model_sentiment.fit(X_train_tfidf_sent, y_train_sent)\n",
    "\n",
    "# Making predictions\n",
    "y_pred_sent = log_reg_model_sentiment.predict(X_test_tfidf_sent)\n",
    "\n",
    "# Evaluating the model\n",
    "accuracy_sent = accuracy_score(y_test_sent, y_pred_sent)\n",
    "classification_rep_sent = classification_report(y_test_sent, y_pred_sent)\n",
    "\n",
    "accuracy_sent, classification_rep_sent"
   ]
  },
  {
   "cell_type": "markdown",
   "id": "b5140512",
   "metadata": {},
   "source": [
    "Sentiment Analysis Results:\n",
    "\n",
    "* Accuracy: Approximately **85.80%**"
   ]
  },
  {
   "cell_type": "markdown",
   "id": "4cfd25d2",
   "metadata": {},
   "source": [
    "The detailed breakdown:\n",
    "\n",
    "              precision    recall  f1-score   support\n",
    "\n",
    "    Negative       0.80      0.75      0.77       625\n",
    "    Neutral        0.50      0.19      0.28       432\n",
    "    Positive       0.89      0.98      0.93      3042\n",
    "\n",
    "    Accuracy                           0.86      4099\n",
    "    Macro avg      0.73      0.64      0.66      4099\n",
    "    Weighted avg   0.83      0.86      0.84      4099"
   ]
  },
  {
   "cell_type": "markdown",
   "id": "22f7de6b",
   "metadata": {},
   "source": [
    "We've got a pretty decent accuracy! The model is particularly strong at identifying positive reviews, as expected from our data distribution. Neutral reviews are a bit trickier since they tend to have elements from both positive and negative sentiments."
   ]
  },
  {
   "cell_type": "markdown",
   "id": "c64806ee",
   "metadata": {},
   "source": [
    "### 6. Predictions Using the Sentiment Model <a name=\"predictions-using-the-sentiment-model\"></a>"
   ]
  },
  {
   "cell_type": "markdown",
   "id": "925a4f29",
   "metadata": {},
   "source": [
    "Let's use our trained model to predict sentiments of some sample reviews.\n",
    "\n",
    "Alright, let's imagine a couple of reviews for demonstration:\n",
    "\n",
    "1. \"The hotel was absolutely breathtaking. The view from my room was stunning, and the staff went above and beyond to ensure a comfortable stay. The food was a culinary delight!\"\n",
    "\n",
    "2. \"I've had better experiences camping in the woods. The room was a mess, and the noise from the hallway kept me up all night. The only redeeming quality was the decent breakfast.\"\n",
    "\n",
    "Let's feed these reviews to our model and predict their sentiments!"
   ]
  },
  {
   "cell_type": "code",
   "execution_count": 11,
   "id": "bf49e74d",
   "metadata": {},
   "outputs": [
    {
     "data": {
      "text/plain": [
       "array(['positive', 'negative'], dtype=object)"
      ]
     },
     "execution_count": 11,
     "metadata": {},
     "output_type": "execute_result"
    }
   ],
   "source": [
    "# Sample reviews for demonstration\n",
    "sample_reviews = [\n",
    "    \"The hotel was absolutely breathtaking. The view from my room was stunning, and the staff went above and beyond to ensure a comfortable stay. The food was a culinary delight!\",\n",
    "    \"I've had better experiences camping in the woods. The room was a mess, and the noise from the hallway kept me up all night. The only redeeming quality was the decent breakfast.\"\n",
    "]\n",
    "\n",
    "# Preprocess the sample reviews\n",
    "processed_sample_reviews = [simpler_preprocess(\n",
    "    review) for review in sample_reviews]\n",
    "\n",
    "# Transform the reviews using the TF-IDF vectorizer\n",
    "sample_reviews_tfidf = tfidf_vectorizer_sentiment.transform(\n",
    "    processed_sample_reviews)\n",
    "\n",
    "# Predict the sentiment using the trained model\n",
    "predicted_sentiments = log_reg_model_sentiment.predict(sample_reviews_tfidf)\n",
    "\n",
    "predicted_sentiments\n"
   ]
  },
  {
   "cell_type": "markdown",
   "id": "d9c079fe",
   "metadata": {},
   "source": [
    "Voilà! Here are the predicted sentiments for our conjured reviews:\n",
    "\n",
    "1. \"The hotel was absolutely breathtaking. The view from my room was stunning, and the staff went above and beyond to ensure a comfortable stay. The food was a culinary delight!\"\n",
    "         **Predicted Sentiment**: Positive 🌟\n",
    "2. \"I've had better experiences camping in the woods. The room was a mess, and the noise from the hallway kept me up all night. The only redeeming quality was the decent breakfast.\"\n",
    "         **Predicted Sentiment**: Negative 😟\n",
    "\n",
    "Looks like our model is in tune with the vibes of these reviews! Whether you're singing praises or airing grievances, our trusty sentiment model is here to label those feels."
   ]
  },
  {
   "cell_type": "markdown",
   "id": "60769c12",
   "metadata": {},
   "source": [
    "### 7. Conclusion <a name=\"conclusion\"></a>"
   ]
  },
  {
   "cell_type": "markdown",
   "id": "3c5c506f",
   "metadata": {},
   "source": [
    "Through this delightful journey, we've explored the key aspects that make hotels good or bad, predicted review ratings, and even modeled the sentiments within the reviews. We laughed, we learned, and most importantly, we discovered the fascinating world within TripAdvisor hotel reviews."
   ]
  },
  {
   "cell_type": "markdown",
   "id": "8a64eacb",
   "metadata": {},
   "source": [
    "Sentiment analysis can be a powerful tool, especially for businesses looking to gauge customer sentiment and improve their services. In our case, we've successfully trained a model that can categorize hotel reviews into positive, neutral, or negative sentiments with decent accuracy."
   ]
  },
  {
   "cell_type": "markdown",
   "id": "698a2d68",
   "metadata": {},
   "source": [
    "> WP, 2023"
   ]
  }
 ],
 "metadata": {
  "kernelspec": {
   "display_name": "Python 3 (ipykernel)",
   "language": "python",
   "name": "python3"
  },
  "language_info": {
   "codemirror_mode": {
    "name": "ipython",
    "version": 3
   },
   "file_extension": ".py",
   "mimetype": "text/x-python",
   "name": "python",
   "nbconvert_exporter": "python",
   "pygments_lexer": "ipython3",
   "version": "3.9.12"
  },
  "toc": {
   "base_numbering": 1,
   "nav_menu": {},
   "number_sections": false,
   "sideBar": true,
   "skip_h1_title": false,
   "title_cell": "Table of Contents",
   "title_sidebar": "Contents",
   "toc_cell": false,
   "toc_position": {},
   "toc_section_display": true,
   "toc_window_display": false
  }
 },
 "nbformat": 4,
 "nbformat_minor": 5
}
