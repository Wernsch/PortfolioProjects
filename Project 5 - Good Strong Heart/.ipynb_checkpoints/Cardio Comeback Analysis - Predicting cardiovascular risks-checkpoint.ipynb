{
 "cells": [
  {
   "cell_type": "markdown",
   "id": "9f3ab439",
   "metadata": {},
   "source": [
    "# <font color=\"#1f618d\">Cardio comeback: The heartbeat of data science"
   ]
  },
  {
   "cell_type": "markdown",
   "id": "e7c367c7",
   "metadata": {},
   "source": [
    "### <font color=\" #0e6655\">Unraveling the secrets of the heart, one data point at a time"
   ]
  },
  {
   "cell_type": "markdown",
   "id": "0dab054d",
   "metadata": {},
   "source": [
    "### <font color=\"#909497\">Table of contents\n",
    "\n",
    "- [1. Project Description](#Project-Description)\n",
    "- [2. Background: Why Should We Care?](#Background)\n",
    "- [3. Hypotheses to Test](#Hypotheses)\n",
    "- [4. EDA and Data Cleaning](#EDA)\n",
    "- [5. Descriptive Statistics](#Descriptive-Statistics)\n",
    "- [6. Visualizations: A Picture Paints a Thousand Data Points](#Visualizations)\n",
    "- [7. Modeling: Predicting Cardiovascular Risks](#Modeling)\n",
    "- [8. Conclusions and Next Steps](#Conclusions)\n",
    "- [9. Bonus: Fun Facts and Nuggets of Wisdom](#Bonus)"
   ]
  },
  {
   "cell_type": "markdown",
   "id": "da8e7001",
   "metadata": {},
   "source": [
    "### <font color=\" #0e6655\">1. Project description<a name=\"Project-Description\"></a>"
   ]
  },
  {
   "cell_type": "markdown",
   "id": "b24dccaf",
   "metadata": {},
   "source": [
    "Greetings, esteemed reader! In this project, I'm diving into the depths of the human heart—figuratively speaking, of course. Using a dataset on cardiovascular health, I aim to explore, visualize, and predict the risk factors associated with heart diseases. If you've ever wondered, \"Is my heart behaving today?\", this is the analysis for you!"
   ]
  },
  {
   "cell_type": "markdown",
   "id": "ccd9c5e6",
   "metadata": {},
   "source": [
    "`Source of the dataset: https://www.kaggle.com/datasets/kamilpytlak/personal-key-indicators-of-heart-disease`"
   ]
  },
  {
   "cell_type": "markdown",
   "id": "c92f4f1b",
   "metadata": {},
   "source": [
    "### <font color=\" #0e6655\">2. Background: Why should we care?<a name=\"Background\"></a>"
   ]
  },
  {
   "cell_type": "markdown",
   "id": "9aa4addb",
   "metadata": {},
   "source": [
    "Heart diseases remain the leading cause of mortality globally. Every year, more people die from cardiovascular diseases than from any other cause. It's not just about living longer; it's about living healthier, fuller lives. By understanding and predicting heart health, we're not only adding years to life but life to years."
   ]
  },
  {
   "cell_type": "markdown",
   "id": "13cea47a",
   "metadata": {},
   "source": [
    "### <font color=\" #0e6655\">3. Hypotheses to test<a name=\"Hypotheses\"></a>"
   ]
  },
  {
   "cell_type": "markdown",
   "id": "b3bcab57",
   "metadata": {},
   "source": [
    "Here are some hypotheses I'm itching to explore:\n",
    "\n",
    "1. Age is positively correlated with the risk of heart disease.\n",
    "2. Smoking significantly increases the risk of heart ailments.\n",
    "3. Physical activity acts as a protective factor against cardiovascular diseases."
   ]
  },
  {
   "cell_type": "markdown",
   "id": "8057df2b",
   "metadata": {},
   "source": [
    "### <font color=\" #0e6655\">4. EDA and data cleaning<a name=\"EDA\"></a>"
   ]
  },
  {
   "cell_type": "markdown",
   "id": "056dfd13",
   "metadata": {},
   "source": [
    "Before we make our data sing, we need to ensure it's in tune. Let's explore and clean!\n",
    "\n",
    "Tip: Always treat your data like you'd treat your favorite plant—nurture it, clean it, and watch it grow!"
   ]
  },
  {
   "cell_type": "code",
   "execution_count": 1,
   "id": "70fd3365",
   "metadata": {
    "code_folding": [
     0
    ]
   },
   "outputs": [],
   "source": [
    "# Importing relevant packages\n",
    "import pandas as pd\n",
    "import matplotlib.pyplot as plt\n",
    "import seaborn as sns\n",
    "from sklearn.model_selection import train_test_split\n",
    "from sklearn.preprocessing import StandardScaler, LabelEncoder\n",
    "from sklearn.ensemble import RandomForestClassifier\n",
    "from sklearn.metrics import classification_report, accuracy_score"
   ]
  },
  {
   "cell_type": "code",
   "execution_count": 2,
   "id": "becd6b86",
   "metadata": {
    "code_folding": [
     0
    ]
   },
   "outputs": [],
   "source": [
    "# Load the dataset\n",
    "heart_data = pd.read_csv(r\"data/heart_2020_cleaned.csv\")"
   ]
  },
  {
   "cell_type": "code",
   "execution_count": 3,
   "id": "c8e04a04",
   "metadata": {
    "code_folding": [
     0
    ]
   },
   "outputs": [
    {
     "data": {
      "text/html": [
       "<div>\n",
       "<style scoped>\n",
       "    .dataframe tbody tr th:only-of-type {\n",
       "        vertical-align: middle;\n",
       "    }\n",
       "\n",
       "    .dataframe tbody tr th {\n",
       "        vertical-align: top;\n",
       "    }\n",
       "\n",
       "    .dataframe thead th {\n",
       "        text-align: right;\n",
       "    }\n",
       "</style>\n",
       "<table border=\"1\" class=\"dataframe\">\n",
       "  <thead>\n",
       "    <tr style=\"text-align: right;\">\n",
       "      <th></th>\n",
       "      <th>HeartDisease</th>\n",
       "      <th>BMI</th>\n",
       "      <th>Smoking</th>\n",
       "      <th>AlcoholDrinking</th>\n",
       "      <th>Stroke</th>\n",
       "      <th>PhysicalHealth</th>\n",
       "      <th>MentalHealth</th>\n",
       "      <th>DiffWalking</th>\n",
       "      <th>Sex</th>\n",
       "      <th>AgeCategory</th>\n",
       "      <th>Race</th>\n",
       "      <th>Diabetic</th>\n",
       "      <th>PhysicalActivity</th>\n",
       "      <th>GenHealth</th>\n",
       "      <th>SleepTime</th>\n",
       "      <th>Asthma</th>\n",
       "      <th>KidneyDisease</th>\n",
       "      <th>SkinCancer</th>\n",
       "    </tr>\n",
       "  </thead>\n",
       "  <tbody>\n",
       "    <tr>\n",
       "      <th>0</th>\n",
       "      <td>No</td>\n",
       "      <td>16.60</td>\n",
       "      <td>Yes</td>\n",
       "      <td>No</td>\n",
       "      <td>No</td>\n",
       "      <td>3.0</td>\n",
       "      <td>30.0</td>\n",
       "      <td>No</td>\n",
       "      <td>Female</td>\n",
       "      <td>55-59</td>\n",
       "      <td>White</td>\n",
       "      <td>Yes</td>\n",
       "      <td>Yes</td>\n",
       "      <td>Very good</td>\n",
       "      <td>5.0</td>\n",
       "      <td>Yes</td>\n",
       "      <td>No</td>\n",
       "      <td>Yes</td>\n",
       "    </tr>\n",
       "    <tr>\n",
       "      <th>1</th>\n",
       "      <td>No</td>\n",
       "      <td>20.34</td>\n",
       "      <td>No</td>\n",
       "      <td>No</td>\n",
       "      <td>Yes</td>\n",
       "      <td>0.0</td>\n",
       "      <td>0.0</td>\n",
       "      <td>No</td>\n",
       "      <td>Female</td>\n",
       "      <td>80 or older</td>\n",
       "      <td>White</td>\n",
       "      <td>No</td>\n",
       "      <td>Yes</td>\n",
       "      <td>Very good</td>\n",
       "      <td>7.0</td>\n",
       "      <td>No</td>\n",
       "      <td>No</td>\n",
       "      <td>No</td>\n",
       "    </tr>\n",
       "    <tr>\n",
       "      <th>2</th>\n",
       "      <td>No</td>\n",
       "      <td>26.58</td>\n",
       "      <td>Yes</td>\n",
       "      <td>No</td>\n",
       "      <td>No</td>\n",
       "      <td>20.0</td>\n",
       "      <td>30.0</td>\n",
       "      <td>No</td>\n",
       "      <td>Male</td>\n",
       "      <td>65-69</td>\n",
       "      <td>White</td>\n",
       "      <td>Yes</td>\n",
       "      <td>Yes</td>\n",
       "      <td>Fair</td>\n",
       "      <td>8.0</td>\n",
       "      <td>Yes</td>\n",
       "      <td>No</td>\n",
       "      <td>No</td>\n",
       "    </tr>\n",
       "    <tr>\n",
       "      <th>3</th>\n",
       "      <td>No</td>\n",
       "      <td>24.21</td>\n",
       "      <td>No</td>\n",
       "      <td>No</td>\n",
       "      <td>No</td>\n",
       "      <td>0.0</td>\n",
       "      <td>0.0</td>\n",
       "      <td>No</td>\n",
       "      <td>Female</td>\n",
       "      <td>75-79</td>\n",
       "      <td>White</td>\n",
       "      <td>No</td>\n",
       "      <td>No</td>\n",
       "      <td>Good</td>\n",
       "      <td>6.0</td>\n",
       "      <td>No</td>\n",
       "      <td>No</td>\n",
       "      <td>Yes</td>\n",
       "    </tr>\n",
       "    <tr>\n",
       "      <th>4</th>\n",
       "      <td>No</td>\n",
       "      <td>23.71</td>\n",
       "      <td>No</td>\n",
       "      <td>No</td>\n",
       "      <td>No</td>\n",
       "      <td>28.0</td>\n",
       "      <td>0.0</td>\n",
       "      <td>Yes</td>\n",
       "      <td>Female</td>\n",
       "      <td>40-44</td>\n",
       "      <td>White</td>\n",
       "      <td>No</td>\n",
       "      <td>Yes</td>\n",
       "      <td>Very good</td>\n",
       "      <td>8.0</td>\n",
       "      <td>No</td>\n",
       "      <td>No</td>\n",
       "      <td>No</td>\n",
       "    </tr>\n",
       "  </tbody>\n",
       "</table>\n",
       "</div>"
      ],
      "text/plain": [
       "  HeartDisease    BMI Smoking AlcoholDrinking Stroke  PhysicalHealth  \\\n",
       "0           No  16.60     Yes              No     No             3.0   \n",
       "1           No  20.34      No              No    Yes             0.0   \n",
       "2           No  26.58     Yes              No     No            20.0   \n",
       "3           No  24.21      No              No     No             0.0   \n",
       "4           No  23.71      No              No     No            28.0   \n",
       "\n",
       "   MentalHealth DiffWalking     Sex  AgeCategory   Race Diabetic  \\\n",
       "0          30.0          No  Female        55-59  White      Yes   \n",
       "1           0.0          No  Female  80 or older  White       No   \n",
       "2          30.0          No    Male        65-69  White      Yes   \n",
       "3           0.0          No  Female        75-79  White       No   \n",
       "4           0.0         Yes  Female        40-44  White       No   \n",
       "\n",
       "  PhysicalActivity  GenHealth  SleepTime Asthma KidneyDisease SkinCancer  \n",
       "0              Yes  Very good        5.0    Yes            No        Yes  \n",
       "1              Yes  Very good        7.0     No            No         No  \n",
       "2              Yes       Fair        8.0    Yes            No         No  \n",
       "3               No       Good        6.0     No            No        Yes  \n",
       "4              Yes  Very good        8.0     No            No         No  "
      ]
     },
     "execution_count": 3,
     "metadata": {},
     "output_type": "execute_result"
    }
   ],
   "source": [
    "# Display the first few rows to get an overview\n",
    "heart_data.head()"
   ]
  },
  {
   "cell_type": "markdown",
   "id": "4c19a02e",
   "metadata": {},
   "source": [
    "Alright, let's see what we're working with. The dataset contains a range of variables:\n",
    "\n",
    "1. **HeartDisease**: Whether or not an individual has heart disease.\n",
    "2. **BMI**: Body Mass Index (the infamous metric we all pretend to understand).\n",
    "3. **Smoking**: Whether the person loves puffing on those nicotine sticks.\n",
    "4. **AlcoholDrinking**: If the person enjoys a sip or two... or more.\n",
    "5. **Stroke**: Ever had a stroke? This column knows.\n",
    "6. **PhysicalHealth**: Number of days physical health was not good in the past month.\n",
    "7. **MentalHealth**: Number of days mental health was not good in the past month (because our brains need some love too!).\n",
    "8. **DiffWalking**: Difficulty in walking or not.\n",
    "9. **Sex**: Gender of the individual.\n",
    "10. **AgeCategory**: Age, but make it categorical.\n",
    "11. **Race**: The race to which the individual belongs.\n",
    "12. **Diabetic**: Sweet or not so sweet? That is the question.\n",
    "13. **PhysicalActivity**: Whether one engages in physical activity.\n",
    "14. **GenHealth**: General health perception.\n",
    "15. **SleepTime**: How many hours does one sleep? (I wish it was always 8 for me).\n",
    "16. **Asthma**: Breathing troubles? This column reveals all.\n",
    "17. **KidneyDisease**: How's the kidney doing?\n",
    "18. **SkinCancer**: Any history of the sunny side's downside?"
   ]
  },
  {
   "cell_type": "markdown",
   "id": "5064c9f0",
   "metadata": {},
   "source": [
    "Before we proceed, let's check for missing values and deal with them accordingly. Remember, a clean dataset is a happy dataset!"
   ]
  },
  {
   "cell_type": "code",
   "execution_count": 4,
   "id": "cf33e728",
   "metadata": {
    "code_folding": [
     0
    ]
   },
   "outputs": [
    {
     "data": {
      "text/plain": [
       "HeartDisease        0\n",
       "BMI                 0\n",
       "Smoking             0\n",
       "AlcoholDrinking     0\n",
       "Stroke              0\n",
       "PhysicalHealth      0\n",
       "MentalHealth        0\n",
       "DiffWalking         0\n",
       "Sex                 0\n",
       "AgeCategory         0\n",
       "Race                0\n",
       "Diabetic            0\n",
       "PhysicalActivity    0\n",
       "GenHealth           0\n",
       "SleepTime           0\n",
       "Asthma              0\n",
       "KidneyDisease       0\n",
       "SkinCancer          0\n",
       "dtype: int64"
      ]
     },
     "execution_count": 4,
     "metadata": {},
     "output_type": "execute_result"
    }
   ],
   "source": [
    "# Check for missing values in the dataset\n",
    "missing_values = heart_data.isnull().sum()\n",
    "\n",
    "missing_values"
   ]
  },
  {
   "cell_type": "markdown",
   "id": "82d7a263",
   "metadata": {},
   "source": [
    "Pop the champagne (or sparkling water if you're on duty)! We have no missing values in our dataset. This is what dreams are made of. 🍾\n",
    "\n",
    "Now, let's dive a little deeper and get some quick statistics to understand our data's distribution. This step is like reading the blurb of a book—it gives you a sneak peek into the story!"
   ]
  },
  {
   "cell_type": "markdown",
   "id": "dd63fa9d",
   "metadata": {},
   "source": [
    "### <font color=\" #0e6655\">5. Descriptive statistics<a name=\"Descriptive-Statistics\"></a>"
   ]
  },
  {
   "cell_type": "markdown",
   "id": "d5f909b2",
   "metadata": {},
   "source": [
    "Let's get to know our data a bit better. After all, it's the first step to a beautiful friendship."
   ]
  },
  {
   "cell_type": "code",
   "execution_count": 5,
   "id": "ef2d82d5",
   "metadata": {
    "code_folding": [
     0
    ]
   },
   "outputs": [
    {
     "data": {
      "text/html": [
       "<div>\n",
       "<style scoped>\n",
       "    .dataframe tbody tr th:only-of-type {\n",
       "        vertical-align: middle;\n",
       "    }\n",
       "\n",
       "    .dataframe tbody tr th {\n",
       "        vertical-align: top;\n",
       "    }\n",
       "\n",
       "    .dataframe thead th {\n",
       "        text-align: right;\n",
       "    }\n",
       "</style>\n",
       "<table border=\"1\" class=\"dataframe\">\n",
       "  <thead>\n",
       "    <tr style=\"text-align: right;\">\n",
       "      <th></th>\n",
       "      <th>HeartDisease</th>\n",
       "      <th>BMI</th>\n",
       "      <th>Smoking</th>\n",
       "      <th>AlcoholDrinking</th>\n",
       "      <th>Stroke</th>\n",
       "      <th>PhysicalHealth</th>\n",
       "      <th>MentalHealth</th>\n",
       "      <th>DiffWalking</th>\n",
       "      <th>Sex</th>\n",
       "      <th>AgeCategory</th>\n",
       "      <th>Race</th>\n",
       "      <th>Diabetic</th>\n",
       "      <th>PhysicalActivity</th>\n",
       "      <th>GenHealth</th>\n",
       "      <th>SleepTime</th>\n",
       "      <th>Asthma</th>\n",
       "      <th>KidneyDisease</th>\n",
       "      <th>SkinCancer</th>\n",
       "    </tr>\n",
       "  </thead>\n",
       "  <tbody>\n",
       "    <tr>\n",
       "      <th>count</th>\n",
       "      <td>319795</td>\n",
       "      <td>319795.000000</td>\n",
       "      <td>319795</td>\n",
       "      <td>319795</td>\n",
       "      <td>319795</td>\n",
       "      <td>319795.00000</td>\n",
       "      <td>319795.000000</td>\n",
       "      <td>319795</td>\n",
       "      <td>319795</td>\n",
       "      <td>319795</td>\n",
       "      <td>319795</td>\n",
       "      <td>319795</td>\n",
       "      <td>319795</td>\n",
       "      <td>319795</td>\n",
       "      <td>319795.000000</td>\n",
       "      <td>319795</td>\n",
       "      <td>319795</td>\n",
       "      <td>319795</td>\n",
       "    </tr>\n",
       "    <tr>\n",
       "      <th>unique</th>\n",
       "      <td>2</td>\n",
       "      <td>NaN</td>\n",
       "      <td>2</td>\n",
       "      <td>2</td>\n",
       "      <td>2</td>\n",
       "      <td>NaN</td>\n",
       "      <td>NaN</td>\n",
       "      <td>2</td>\n",
       "      <td>2</td>\n",
       "      <td>13</td>\n",
       "      <td>6</td>\n",
       "      <td>4</td>\n",
       "      <td>2</td>\n",
       "      <td>5</td>\n",
       "      <td>NaN</td>\n",
       "      <td>2</td>\n",
       "      <td>2</td>\n",
       "      <td>2</td>\n",
       "    </tr>\n",
       "    <tr>\n",
       "      <th>top</th>\n",
       "      <td>No</td>\n",
       "      <td>NaN</td>\n",
       "      <td>No</td>\n",
       "      <td>No</td>\n",
       "      <td>No</td>\n",
       "      <td>NaN</td>\n",
       "      <td>NaN</td>\n",
       "      <td>No</td>\n",
       "      <td>Female</td>\n",
       "      <td>65-69</td>\n",
       "      <td>White</td>\n",
       "      <td>No</td>\n",
       "      <td>Yes</td>\n",
       "      <td>Very good</td>\n",
       "      <td>NaN</td>\n",
       "      <td>No</td>\n",
       "      <td>No</td>\n",
       "      <td>No</td>\n",
       "    </tr>\n",
       "    <tr>\n",
       "      <th>freq</th>\n",
       "      <td>292422</td>\n",
       "      <td>NaN</td>\n",
       "      <td>187887</td>\n",
       "      <td>298018</td>\n",
       "      <td>307726</td>\n",
       "      <td>NaN</td>\n",
       "      <td>NaN</td>\n",
       "      <td>275385</td>\n",
       "      <td>167805</td>\n",
       "      <td>34151</td>\n",
       "      <td>245212</td>\n",
       "      <td>269653</td>\n",
       "      <td>247957</td>\n",
       "      <td>113858</td>\n",
       "      <td>NaN</td>\n",
       "      <td>276923</td>\n",
       "      <td>308016</td>\n",
       "      <td>289976</td>\n",
       "    </tr>\n",
       "    <tr>\n",
       "      <th>mean</th>\n",
       "      <td>NaN</td>\n",
       "      <td>28.325399</td>\n",
       "      <td>NaN</td>\n",
       "      <td>NaN</td>\n",
       "      <td>NaN</td>\n",
       "      <td>3.37171</td>\n",
       "      <td>3.898366</td>\n",
       "      <td>NaN</td>\n",
       "      <td>NaN</td>\n",
       "      <td>NaN</td>\n",
       "      <td>NaN</td>\n",
       "      <td>NaN</td>\n",
       "      <td>NaN</td>\n",
       "      <td>NaN</td>\n",
       "      <td>7.097075</td>\n",
       "      <td>NaN</td>\n",
       "      <td>NaN</td>\n",
       "      <td>NaN</td>\n",
       "    </tr>\n",
       "    <tr>\n",
       "      <th>std</th>\n",
       "      <td>NaN</td>\n",
       "      <td>6.356100</td>\n",
       "      <td>NaN</td>\n",
       "      <td>NaN</td>\n",
       "      <td>NaN</td>\n",
       "      <td>7.95085</td>\n",
       "      <td>7.955235</td>\n",
       "      <td>NaN</td>\n",
       "      <td>NaN</td>\n",
       "      <td>NaN</td>\n",
       "      <td>NaN</td>\n",
       "      <td>NaN</td>\n",
       "      <td>NaN</td>\n",
       "      <td>NaN</td>\n",
       "      <td>1.436007</td>\n",
       "      <td>NaN</td>\n",
       "      <td>NaN</td>\n",
       "      <td>NaN</td>\n",
       "    </tr>\n",
       "    <tr>\n",
       "      <th>min</th>\n",
       "      <td>NaN</td>\n",
       "      <td>12.020000</td>\n",
       "      <td>NaN</td>\n",
       "      <td>NaN</td>\n",
       "      <td>NaN</td>\n",
       "      <td>0.00000</td>\n",
       "      <td>0.000000</td>\n",
       "      <td>NaN</td>\n",
       "      <td>NaN</td>\n",
       "      <td>NaN</td>\n",
       "      <td>NaN</td>\n",
       "      <td>NaN</td>\n",
       "      <td>NaN</td>\n",
       "      <td>NaN</td>\n",
       "      <td>1.000000</td>\n",
       "      <td>NaN</td>\n",
       "      <td>NaN</td>\n",
       "      <td>NaN</td>\n",
       "    </tr>\n",
       "    <tr>\n",
       "      <th>25%</th>\n",
       "      <td>NaN</td>\n",
       "      <td>24.030000</td>\n",
       "      <td>NaN</td>\n",
       "      <td>NaN</td>\n",
       "      <td>NaN</td>\n",
       "      <td>0.00000</td>\n",
       "      <td>0.000000</td>\n",
       "      <td>NaN</td>\n",
       "      <td>NaN</td>\n",
       "      <td>NaN</td>\n",
       "      <td>NaN</td>\n",
       "      <td>NaN</td>\n",
       "      <td>NaN</td>\n",
       "      <td>NaN</td>\n",
       "      <td>6.000000</td>\n",
       "      <td>NaN</td>\n",
       "      <td>NaN</td>\n",
       "      <td>NaN</td>\n",
       "    </tr>\n",
       "    <tr>\n",
       "      <th>50%</th>\n",
       "      <td>NaN</td>\n",
       "      <td>27.340000</td>\n",
       "      <td>NaN</td>\n",
       "      <td>NaN</td>\n",
       "      <td>NaN</td>\n",
       "      <td>0.00000</td>\n",
       "      <td>0.000000</td>\n",
       "      <td>NaN</td>\n",
       "      <td>NaN</td>\n",
       "      <td>NaN</td>\n",
       "      <td>NaN</td>\n",
       "      <td>NaN</td>\n",
       "      <td>NaN</td>\n",
       "      <td>NaN</td>\n",
       "      <td>7.000000</td>\n",
       "      <td>NaN</td>\n",
       "      <td>NaN</td>\n",
       "      <td>NaN</td>\n",
       "    </tr>\n",
       "    <tr>\n",
       "      <th>75%</th>\n",
       "      <td>NaN</td>\n",
       "      <td>31.420000</td>\n",
       "      <td>NaN</td>\n",
       "      <td>NaN</td>\n",
       "      <td>NaN</td>\n",
       "      <td>2.00000</td>\n",
       "      <td>3.000000</td>\n",
       "      <td>NaN</td>\n",
       "      <td>NaN</td>\n",
       "      <td>NaN</td>\n",
       "      <td>NaN</td>\n",
       "      <td>NaN</td>\n",
       "      <td>NaN</td>\n",
       "      <td>NaN</td>\n",
       "      <td>8.000000</td>\n",
       "      <td>NaN</td>\n",
       "      <td>NaN</td>\n",
       "      <td>NaN</td>\n",
       "    </tr>\n",
       "    <tr>\n",
       "      <th>max</th>\n",
       "      <td>NaN</td>\n",
       "      <td>94.850000</td>\n",
       "      <td>NaN</td>\n",
       "      <td>NaN</td>\n",
       "      <td>NaN</td>\n",
       "      <td>30.00000</td>\n",
       "      <td>30.000000</td>\n",
       "      <td>NaN</td>\n",
       "      <td>NaN</td>\n",
       "      <td>NaN</td>\n",
       "      <td>NaN</td>\n",
       "      <td>NaN</td>\n",
       "      <td>NaN</td>\n",
       "      <td>NaN</td>\n",
       "      <td>24.000000</td>\n",
       "      <td>NaN</td>\n",
       "      <td>NaN</td>\n",
       "      <td>NaN</td>\n",
       "    </tr>\n",
       "  </tbody>\n",
       "</table>\n",
       "</div>"
      ],
      "text/plain": [
       "       HeartDisease            BMI Smoking AlcoholDrinking  Stroke  \\\n",
       "count        319795  319795.000000  319795          319795  319795   \n",
       "unique            2            NaN       2               2       2   \n",
       "top              No            NaN      No              No      No   \n",
       "freq         292422            NaN  187887          298018  307726   \n",
       "mean            NaN      28.325399     NaN             NaN     NaN   \n",
       "std             NaN       6.356100     NaN             NaN     NaN   \n",
       "min             NaN      12.020000     NaN             NaN     NaN   \n",
       "25%             NaN      24.030000     NaN             NaN     NaN   \n",
       "50%             NaN      27.340000     NaN             NaN     NaN   \n",
       "75%             NaN      31.420000     NaN             NaN     NaN   \n",
       "max             NaN      94.850000     NaN             NaN     NaN   \n",
       "\n",
       "        PhysicalHealth   MentalHealth DiffWalking     Sex AgeCategory    Race  \\\n",
       "count     319795.00000  319795.000000      319795  319795      319795  319795   \n",
       "unique             NaN            NaN           2       2          13       6   \n",
       "top                NaN            NaN          No  Female       65-69   White   \n",
       "freq               NaN            NaN      275385  167805       34151  245212   \n",
       "mean           3.37171       3.898366         NaN     NaN         NaN     NaN   \n",
       "std            7.95085       7.955235         NaN     NaN         NaN     NaN   \n",
       "min            0.00000       0.000000         NaN     NaN         NaN     NaN   \n",
       "25%            0.00000       0.000000         NaN     NaN         NaN     NaN   \n",
       "50%            0.00000       0.000000         NaN     NaN         NaN     NaN   \n",
       "75%            2.00000       3.000000         NaN     NaN         NaN     NaN   \n",
       "max           30.00000      30.000000         NaN     NaN         NaN     NaN   \n",
       "\n",
       "       Diabetic PhysicalActivity  GenHealth      SleepTime  Asthma  \\\n",
       "count    319795           319795     319795  319795.000000  319795   \n",
       "unique        4                2          5            NaN       2   \n",
       "top          No              Yes  Very good            NaN      No   \n",
       "freq     269653           247957     113858            NaN  276923   \n",
       "mean        NaN              NaN        NaN       7.097075     NaN   \n",
       "std         NaN              NaN        NaN       1.436007     NaN   \n",
       "min         NaN              NaN        NaN       1.000000     NaN   \n",
       "25%         NaN              NaN        NaN       6.000000     NaN   \n",
       "50%         NaN              NaN        NaN       7.000000     NaN   \n",
       "75%         NaN              NaN        NaN       8.000000     NaN   \n",
       "max         NaN              NaN        NaN      24.000000     NaN   \n",
       "\n",
       "       KidneyDisease SkinCancer  \n",
       "count         319795     319795  \n",
       "unique             2          2  \n",
       "top               No         No  \n",
       "freq          308016     289976  \n",
       "mean             NaN        NaN  \n",
       "std              NaN        NaN  \n",
       "min              NaN        NaN  \n",
       "25%              NaN        NaN  \n",
       "50%              NaN        NaN  \n",
       "75%              NaN        NaN  \n",
       "max              NaN        NaN  "
      ]
     },
     "execution_count": 5,
     "metadata": {},
     "output_type": "execute_result"
    }
   ],
   "source": [
    "# Obtain descriptive statistics for the dataset\n",
    "desc_stats = heart_data.describe(include='all')\n",
    "\n",
    "desc_stats"
   ]
  },
  {
   "cell_type": "markdown",
   "id": "3380326c",
   "metadata": {},
   "source": [
    "Let's sum up some of the highlights:\n",
    "\n",
    "* The majority of individuals in our dataset do not have heart disease. Phew! 🥳\n",
    "* The average Body Mass Index (BMI) hovers around 28.32. Just a tad above the \"normal\" range, but who's judging?\n",
    "* Smoking is not as popular as it used to be in the 80s movies, with a majority saying 'No' to it.\n",
    "* Alcohol? Most people seem to be abstaining or perhaps being coy about admitting it. 🤭\n",
    "* A majority haven't had a stroke. That's good news!\n",
    "* The average days of not-so-good physical health in the past month is about 3.37 days. We all have our off days, right?\n",
    "* As for mental health, the average is a bit higher, around 3.9 days. Remember, it's okay to seek help when needed.\n",
    "* Most of the respondents are of the female gender, belong to the White race, and fall into the 65-69 age category.\n",
    "* A vast majority engage in physical activity (or so they claim 😉) and rate their general health as \"Very good.\"\n",
    "* The average sleep time is about 7.1 hours. Beauty sleep is real, folks!\n",
    "* Asthma, kidney disease, and skin cancer aren't very common among the respondents.\n",
    "\n",
    "With these insights in hand, let's move on to the visually appealing section!"
   ]
  },
  {
   "cell_type": "markdown",
   "id": "cbafac1c",
   "metadata": {},
   "source": [
    "### <font color=\" #0e6655\">6. Visualizations: A picture paints a thousand data points<a name=\"Visualizations\"></a>"
   ]
  },
  {
   "cell_type": "markdown",
   "id": "54d869fd",
   "metadata": {},
   "source": [
    "As they say, \"Visualize or it didn't happen!\" Let's dive into some plots that will make this data pop! Remember, no pie charts. Pies are for eating, not for charting. 😉"
   ]
  },
  {
   "cell_type": "code",
   "execution_count": 6,
   "id": "94fdf83f",
   "metadata": {
    "code_folding": [
     0
    ]
   },
   "outputs": [
    {
     "data": {
      "image/png": "[encoded data removed]",
      "text/plain": [
       "<Figure size 1080x1080 with 6 Axes>"
      ]
     },
     "metadata": {},
     "output_type": "display_data"
    }
   ],
   "source": [
    "# Set style for the plots\n",
    "sns.set_style(\"whitegrid\")\n",
    "\n",
    "# Set up a grid of plots\n",
    "fig, axes = plt.subplots(nrows=3, ncols=2, figsize=(15, 15))\n",
    "\n",
    "# Plot distribution of BMI\n",
    "sns.histplot(heart_data['BMI'], bins=30, kde=True,\n",
    "             ax=axes[0, 0], color='skyblue')\n",
    "axes[0, 0].set_title('Distribution of BMI')\n",
    "axes[0, 0].set_xlabel('BMI')\n",
    "axes[0, 0].set_ylabel('Frequency')\n",
    "\n",
    "# Plot distribution of SleepTime\n",
    "sns.histplot(heart_data['SleepTime'], bins=30,\n",
    "             kde=True, ax=axes[0, 1], color='salmon')\n",
    "axes[0, 1].set_title('Distribution of Sleep Time (in hours)')\n",
    "axes[0, 1].set_xlabel('Sleep Time')\n",
    "axes[0, 1].set_ylabel('Frequency')\n",
    "\n",
    "# Plot distribution of AgeCategory\n",
    "sns.countplot(data=heart_data, y='AgeCategory',\n",
    "              ax=axes[1, 0], palette='pastel', order=heart_data['AgeCategory'].value_counts().index)\n",
    "axes[1, 0].set_title('Distribution of Age Categories')\n",
    "axes[1, 0].set_xlabel('Count')\n",
    "axes[1, 0].set_ylabel('Age Category')\n",
    "\n",
    "# Plot distribution of General Health\n",
    "sns.countplot(data=heart_data, y='GenHealth',\n",
    "              ax=axes[1, 1], palette='pastel', order=heart_data['GenHealth'].value_counts().index)\n",
    "axes[1, 1].set_title('General Health Perceptions')\n",
    "axes[1, 1].set_xlabel('Count')\n",
    "axes[1, 1].set_ylabel('General Health')\n",
    "\n",
    "# Plot distribution of Race\n",
    "sns.countplot(data=heart_data, y='Race',\n",
    "              ax=axes[2, 0], palette='pastel', order=heart_data['Race'].value_counts().index)\n",
    "axes[2, 0].set_title('Distribution of Races')\n",
    "axes[2, 0].set_xlabel('Count')\n",
    "axes[2, 0].set_ylabel('Race')\n",
    "\n",
    "# Plot distribution of Physical Activity\n",
    "sns.countplot(data=heart_data, x='PhysicalActivity',\n",
    "              ax=axes[2, 1], palette='pastel')\n",
    "axes[2, 1].set_title('Physical Activity Engagement')\n",
    "axes[2, 1].set_xlabel('Physical Activity')\n",
    "axes[2, 1].set_ylabel('Count')\n",
    "\n",
    "# Adjust layout\n",
    "plt.tight_layout()\n",
    "plt.show()"
   ]
  },
  {
   "cell_type": "markdown",
   "id": "738f81b8",
   "metadata": {},
   "source": [
    "Let's break down what these vibrant visuals are telling us:\n",
    "\n",
    "1. **Distribution of BMI**: Most of the respondents seem to have a BMI in the range of 20 to 35. However, there are some extreme values that might be outliers or some super-heroes in disguise.\n",
    "2. **Distribution of Sleep Time**: A majority of people claim to sleep between 6 to 8 hours. There are some outliers, though—people who sleep for more than 15 hours might just be the modern-day Rip Van Winkle.\n",
    "3. **Distribution of Age Categories**: The age distribution seems pretty balanced, with the 65-69 age group taking the lead. It's the wisdom age, after all!\n",
    "4. **General Health Perceptions**: A majority rate their health as very good. Either we have a super-healthy dataset, or people are eternal optimists!\n",
    "5. **Distribution of Races**: Most respondents identify as White, followed by Black and Hispanic.\n",
    "6. **Physical Activity Engagement**: Most people in the dataset engage in physical activity. A sedentary lifestyle isn't as common as one might think!"
   ]
  },
  {
   "cell_type": "markdown",
   "id": "655afe15",
   "metadata": {},
   "source": [
    "Now, let's gear up and model our way to predict cardiovascular risks."
   ]
  },
  {
   "cell_type": "markdown",
   "id": "2067c0df",
   "metadata": {},
   "source": [
    "### <font color=\" #0e6655\">7. Modeling: Predicting cardiovascular risks<a name=\"Modeling\"></a>"
   ]
  },
  {
   "cell_type": "markdown",
   "id": "d8af1750",
   "metadata": {},
   "source": [
    "Time to put on our fortune-teller hats (or rather, our machine learning caps) and predict heart disease risks based on the provided features. Buckle up!"
   ]
  },
  {
   "cell_type": "code",
   "execution_count": 7,
   "id": "f74133db",
   "metadata": {
    "code_folding": [
     0
    ]
   },
   "outputs": [
    {
     "data": {
      "text/plain": [
       "(0.9041886208352226,\n",
       " '              precision    recall  f1-score   support\\n\\n           0       0.92      0.98      0.95     58367\\n           1       0.35      0.11      0.17      5592\\n\\n    accuracy                           0.90     63959\\n   macro avg       0.64      0.55      0.56     63959\\nweighted avg       0.87      0.90      0.88     63959\\n')"
      ]
     },
     "execution_count": 7,
     "metadata": {},
     "output_type": "execute_result"
    }
   ],
   "source": [
    "# Encode categorical variables\n",
    "le = LabelEncoder()\n",
    "categorical_columns = heart_data.select_dtypes(include=['object']).columns\n",
    "for column in categorical_columns:\n",
    "    heart_data[column] = le.fit_transform(heart_data[column])\n",
    "\n",
    "# Splitting the dataset into train and test sets\n",
    "X = heart_data.drop('HeartDisease', axis=1)\n",
    "y = heart_data['HeartDisease']\n",
    "\n",
    "X_train, X_test, y_train, y_test = train_test_split(X, y, test_size=0.2, random_state=42)\n",
    "\n",
    "# Standardizing the features\n",
    "scaler = StandardScaler()\n",
    "X_train = scaler.fit_transform(X_train)\n",
    "X_test = scaler.transform(X_test)\n",
    "\n",
    "# Train a Random Forest classifier\n",
    "clf = RandomForestClassifier(n_estimators=100, random_state=42)\n",
    "clf.fit(X_train, y_train)\n",
    "\n",
    "# Predictions\n",
    "y_pred = clf.predict(X_test)\n",
    "\n",
    "# Accuracy score\n",
    "accuracy = accuracy_score(y_test, y_pred)\n",
    "\n",
    "# Classification report\n",
    "class_report = classification_report(y_test, y_pred)\n",
    "\n",
    "accuracy, class_report"
   ]
  },
  {
   "cell_type": "markdown",
   "id": "36e956de",
   "metadata": {},
   "source": [
    "Our Random Forest classifier achieved an accuracy of approximately 90.42%. Not too shabby for a first attempt! 🌲🌲\n",
    "\n",
    "However, upon closer inspection:\n",
    "\n",
    "* The model performs exceptionally well in predicting individuals without heart disease with a precision of 92%.\n",
    "* For individuals with heart disease, our model's precision drops to 35%, and the recall is just 11%. This means there's room for improvement in predicting true positive cases. After all, in medical scenarios, false negatives (misclassifying diseased individuals as healthy) can have serious implications."
   ]
  },
  {
   "cell_type": "markdown",
   "id": "935dfec9",
   "metadata": {},
   "source": [
    "### <font color=\" #0e6655\">8. Conclusions and next steps:<a name=\"Conclusions\"></a>"
   ]
  },
  {
   "cell_type": "markdown",
   "id": "7fb03bc2",
   "metadata": {},
   "source": [
    "1. **Age, Lifestyle, and Health**: As hypothesized, factors like age, smoking, and lack of physical activity could be potential indicators of heart disease risk. Our EDA showed the distribution and general tendencies of these factors among respondents.\n",
    "2. **Model Improvements**: While the Random Forest classifier gave us a good starting point, there's always room for improvement. We could try other algorithms, feature engineering, or even deep learning to enhance predictive performance.\n",
    "3. **Importance of Clean Data**: Our dataset was relatively clean to begin with, showcasing the importance of good data collection practices. Remember, garbage in, garbage out!"
   ]
  },
  {
   "cell_type": "markdown",
   "id": "242250f1",
   "metadata": {},
   "source": [
    "<font color=\"#117a65\">**Potential next steps:**"
   ]
  },
  {
   "cell_type": "markdown",
   "id": "547828fc",
   "metadata": {},
   "source": [
    "1. Dive deeper into feature importance to identify the most critical predictors of heart disease.\n",
    "2. Experiment with different algorithms and hyperparameters to optimize model performance.\n",
    "3. Consider stratified sampling or oversampling techniques to address the class imbalance issue in our target variable."
   ]
  },
  {
   "cell_type": "markdown",
   "id": "93a95c69",
   "metadata": {},
   "source": [
    "### <font color=\" #0e6655\">9. Bonus: Fun facts and nuggets of wisdom 🌟<a name=\"Bonus\"></a>"
   ]
  },
  {
   "cell_type": "markdown",
   "id": "8e53e964",
   "metadata": {},
   "source": [
    "* Did you know? The heart beats about 100,000 times a day. That's a lot of work for something the size of your fist!\n",
    "* Data science and heart health have something in common: consistency is key. Just as regular check-ups and healthy habits are crucial for heart health, consistent data checks and updates are essential for robust data science models."
   ]
  },
  {
   "cell_type": "markdown",
   "id": "bdea3aa5",
   "metadata": {},
   "source": [
    "Thank you for accompanying me on this analytical journey! I hope you enjoyed it as much as I did. Remember, always listen to your heart—both in life and in data. Until next time, keep those heartbeats and data beats in rhythm! 💓📊🎶\n",
    "\n",
    "> WP, 2023"
   ]
  }
 ],
 "metadata": {
  "kernelspec": {
   "display_name": "Python 3 (ipykernel)",
   "language": "python",
   "name": "python3"
  },
  "language_info": {
   "codemirror_mode": {
    "name": "ipython",
    "version": 3
   },
   "file_extension": ".py",
   "mimetype": "text/x-python",
   "name": "python",
   "nbconvert_exporter": "python",
   "pygments_lexer": "ipython3",
   "version": "3.9.12"
  },
  "toc": {
   "base_numbering": 1,
   "nav_menu": {},
   "number_sections": false,
   "sideBar": true,
   "skip_h1_title": false,
   "title_cell": "Table of Contents",
   "title_sidebar": "Contents",
   "toc_cell": false,
   "toc_position": {},
   "toc_section_display": true,
   "toc_window_display": false
  },
  "varInspector": {
   "cols": {
    "lenName": 16,
    "lenType": 16,
    "lenVar": 40
   },
   "kernels_config": {
    "python": {
     "delete_cmd_postfix": "",
     "delete_cmd_prefix": "del ",
     "library": "var_list.py",
     "varRefreshCmd": "print(var_dic_list())"
    },
    "r": {
     "delete_cmd_postfix": ") ",
     "delete_cmd_prefix": "rm(",
     "library": "var_list.r",
     "varRefreshCmd": "cat(var_dic_list()) "
    }
   },
   "types_to_exclude": [
    "module",
    "function",
    "builtin_function_or_method",
    "instance",
    "_Feature"
   ],
   "window_display": false
  }
 },
 "nbformat": 4,
 "nbformat_minor": 5
}
